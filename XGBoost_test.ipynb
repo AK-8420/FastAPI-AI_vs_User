{
 "cells": [
  {
   "cell_type": "markdown",
   "metadata": {},
   "source": [
    "# XGBoostによる分類モデルのテスト\n",
    "最適なパラメータを探す\n",
    "## データ準備"
   ]
  },
  {
   "cell_type": "code",
   "execution_count": 1,
   "metadata": {},
   "outputs": [],
   "source": [
    "import pandas as pd\n",
    "from sklearn.model_selection import train_test_split\n",
    "\n",
    "df = pd.read_csv(\"./fake_job_postings.csv\")\n",
    "df = df.drop(\"job_id\", axis=1) # job_id = 0,1,2,... 学習価値なし\n",
    "df.fillna('null', inplace=True) # 空の文字列 -> null\n",
    "\n",
    "# 偽文書と本物文書\n",
    "Fakedf = df[ df['fraudulent'] == 1 ]\n",
    "Realdf = df[ df['fraudulent'] == 0 ]\n",
    "\n",
    "# 問題文データのランダム抽出 (偽文書割合50%)\n",
    "detaset_Fake, quiz_Fake = train_test_split(Fakedf, test_size=50)\n",
    "detaset_Real, quiz_Real = train_test_split(Realdf, test_size=50)\n",
    "\n",
    "# 問題文データのランダムシャッフル\n",
    "quizdf = pd.concat([quiz_Real, quiz_Fake])\n",
    "shuffled_df = quizdf.sample(frac=1).reset_index(drop=True)\n",
    "quiz = shuffled_df.drop(\"fraudulent\", axis=1)        # 問題文\n",
    "quiz_solution = shuffled_df[\"fraudulent\"].to_numpy() # 解答\n",
    "\n",
    "# 訓練データとテストデータへの分割 (テストデータ25%)\n",
    "train_Fake, test_Fake = train_test_split(detaset_Fake)\n",
    "train_Real, test_Real = train_test_split(detaset_Real)\n",
    "traindf = pd.concat([train_Real, train_Fake])\n",
    "testdf = pd.concat([test_Real, test_Fake])\n",
    "traindf = traindf.sample(frac=1).reset_index(drop=True)\n",
    "testdf = testdf.sample(frac=1).reset_index(drop=True)\n",
    "train_X = testdf.drop('fraudulent', axis=1)\n",
    "train_y = testdf['fraudulent']\n",
    "test_X = testdf.drop('fraudulent', axis=1)\n",
    "test_y = testdf['fraudulent']"
   ]
  },
  {
   "cell_type": "markdown",
   "metadata": {},
   "source": [
    "## 訓練データ加工\n",
    "データの傾向を確認し、適切な前処理を行う。"
   ]
  },
  {
   "cell_type": "code",
   "execution_count": 4,
   "metadata": {},
   "outputs": [
    {
     "name": "stdout",
     "output_type": "stream",
     "text": [
      "                                   title                location  \\\n",
      "0                               Attorney  US, VA, Virginia Beach   \n",
      "1     Senior QA Engineer (3-4 Years Exp)       IN, DL, New Delhi   \n",
      "2  Project Administrator Project Support      PH, , QUEZON CITY    \n",
      "3            Creative Digital Copywriter           GR, I, Athens   \n",
      "4                         Marketing Lead       US, CA, San Diego   \n",
      "\n",
      "       department   salary_range  \\\n",
      "0            null           null   \n",
      "1            null  300000-600000   \n",
      "2  Administrator     10000-30000   \n",
      "3        Creative           null   \n",
      "4            null           null   \n",
      "\n",
      "                                     company_profile  \\\n",
      "0  Tidewater Finance Co. was established in 1992 ...   \n",
      "1  Practical Fish was founded in June, 2012 with ...   \n",
      "2  Collabera is a fast growing, end-to-end inform...   \n",
      "3  Tribal Worldwide Athens is a digitally centric...   \n",
      "4  Cashie Commerce is the fastest way to create a...   \n",
      "\n",
      "                                         description  \\\n",
      "0  Tidewater Finance Company, an industry leader ...   \n",
      "1  QA Engineer will participate in the creation a...   \n",
      "2  Job Title :- Project Administrator Project Sup...   \n",
      "3  Tribal DDB Athens is looking for a creative an...   \n",
      "4  Cashie Commerce is looking for a hands-on, hig...   \n",
      "\n",
      "                                        requirements  \\\n",
      "0  Required Education, Experience and SkillsBache...   \n",
      "1  Experience in creating, managing and executing...   \n",
      "2  • Perform Status Tracking &amp; Reporting.• Pe...   \n",
      "3  The successful applicant will be required to d...   \n",
      "4  To perform this job successfully, an individua...   \n",
      "\n",
      "                                            benefits  telecommuting  \\\n",
      "0  Our company offers a competitive salary plus B...              0   \n",
      "1                                               null              0   \n",
      "2  Collabera is a fast growing, end-to-end inform...              0   \n",
      "3                                               null              0   \n",
      "4  Cashie Commerce offers a competitive benefits ...              0   \n",
      "\n",
      "   has_company_logo  has_questions employment_type required_experience  \\\n",
      "0                 1              1       Full-time    Mid-Senior level   \n",
      "1                 1              1       Full-time    Mid-Senior level   \n",
      "2                 1              0        Contract           Associate   \n",
      "3                 1              1            null                null   \n",
      "4                 1              1       Full-time    Mid-Senior level   \n",
      "\n",
      "  required_education                             industry           function  \n",
      "0  Bachelor's Degree                   Financial Services              Legal  \n",
      "1               null                    Computer Software  Quality Assurance  \n",
      "2               null  Information Technology and Services     Administrative  \n",
      "3               null                                 null               null  \n",
      "4  Bachelor's Degree                             Internet          Marketing  \n"
     ]
    }
   ],
   "source": [
    "print(train_X.head())"
   ]
  },
  {
   "cell_type": "code",
   "execution_count": 6,
   "metadata": {},
   "outputs": [
    {
     "ename": "ModuleNotFoundError",
     "evalue": "No module named 'matplotlib'",
     "output_type": "error",
     "traceback": [
      "\u001b[1;31m---------------------------------------------------------------------------\u001b[0m",
      "\u001b[1;31mModuleNotFoundError\u001b[0m                       Traceback (most recent call last)",
      "\u001b[1;32mc:\\Users\\katai\\studies\\FastAPI_AI_vs_You\\XGBoost_test.ipynb Cell 5\u001b[0m line \u001b[0;36m1\n\u001b[1;32m----> <a href='vscode-notebook-cell:/c%3A/Users/katai/studies/FastAPI_AI_vs_You/XGBoost_test.ipynb#X15sZmlsZQ%3D%3D?line=0'>1</a>\u001b[0m \u001b[39mimport\u001b[39;00m \u001b[39mmatplotlib\u001b[39;00m\u001b[39m.\u001b[39;00m\u001b[39mpyplot\u001b[39;00m \u001b[39mas\u001b[39;00m \u001b[39mplt\u001b[39;00m\n",
      "\u001b[1;31mModuleNotFoundError\u001b[0m: No module named 'matplotlib'"
     ]
    }
   ],
   "source": [
    "import matplotlib.pyplot as plt"
   ]
  },
  {
   "cell_type": "code",
   "execution_count": 5,
   "metadata": {},
   "outputs": [
    {
     "ename": "ImportError",
     "evalue": "matplotlib is required for plotting when the default backend \"matplotlib\" is selected.",
     "output_type": "error",
     "traceback": [
      "\u001b[1;31m---------------------------------------------------------------------------\u001b[0m",
      "\u001b[1;31mImportError\u001b[0m                               Traceback (most recent call last)",
      "\u001b[1;32mc:\\Users\\katai\\studies\\FastAPI_AI_vs_You\\XGBoost_test.ipynb Cell 5\u001b[0m line \u001b[0;36m1\n\u001b[1;32m----> <a href='vscode-notebook-cell:/c%3A/Users/katai/studies/FastAPI_AI_vs_You/XGBoost_test.ipynb#X13sZmlsZQ%3D%3D?line=0'>1</a>\u001b[0m train_y\u001b[39m.\u001b[39;49mplot(\u001b[39m'\u001b[39;49m\u001b[39mpie\u001b[39;49m\u001b[39m'\u001b[39;49m)\n",
      "File \u001b[1;32mc:\\Users\\katai\\studies\\FastAPI_AI_vs_You\\.venv\\lib\\site-packages\\pandas\\plotting\\_core.py:951\u001b[0m, in \u001b[0;36mPlotAccessor.__call__\u001b[1;34m(self, *args, **kwargs)\u001b[0m\n\u001b[0;32m    950\u001b[0m \u001b[39mdef\u001b[39;00m \u001b[39m__call__\u001b[39m(\u001b[39mself\u001b[39m, \u001b[39m*\u001b[39margs, \u001b[39m*\u001b[39m\u001b[39m*\u001b[39mkwargs):\n\u001b[1;32m--> 951\u001b[0m     plot_backend \u001b[39m=\u001b[39m _get_plot_backend(kwargs\u001b[39m.\u001b[39;49mpop(\u001b[39m\"\u001b[39;49m\u001b[39mbackend\u001b[39;49m\u001b[39m\"\u001b[39;49m, \u001b[39mNone\u001b[39;49;00m))\n\u001b[0;32m    953\u001b[0m     x, y, kind, kwargs \u001b[39m=\u001b[39m \u001b[39mself\u001b[39m\u001b[39m.\u001b[39m_get_call_args(\n\u001b[0;32m    954\u001b[0m         plot_backend\u001b[39m.\u001b[39m\u001b[39m__name__\u001b[39m, \u001b[39mself\u001b[39m\u001b[39m.\u001b[39m_parent, args, kwargs\n\u001b[0;32m    955\u001b[0m     )\n\u001b[0;32m    957\u001b[0m     kind \u001b[39m=\u001b[39m \u001b[39mself\u001b[39m\u001b[39m.\u001b[39m_kind_aliases\u001b[39m.\u001b[39mget(kind, kind)\n",
      "File \u001b[1;32mc:\\Users\\katai\\studies\\FastAPI_AI_vs_You\\.venv\\lib\\site-packages\\pandas\\plotting\\_core.py:1947\u001b[0m, in \u001b[0;36m_get_plot_backend\u001b[1;34m(backend)\u001b[0m\n\u001b[0;32m   1944\u001b[0m \u001b[39mif\u001b[39;00m backend_str \u001b[39min\u001b[39;00m _backends:\n\u001b[0;32m   1945\u001b[0m     \u001b[39mreturn\u001b[39;00m _backends[backend_str]\n\u001b[1;32m-> 1947\u001b[0m module \u001b[39m=\u001b[39m _load_backend(backend_str)\n\u001b[0;32m   1948\u001b[0m _backends[backend_str] \u001b[39m=\u001b[39m module\n\u001b[0;32m   1949\u001b[0m \u001b[39mreturn\u001b[39;00m module\n",
      "File \u001b[1;32mc:\\Users\\katai\\studies\\FastAPI_AI_vs_You\\.venv\\lib\\site-packages\\pandas\\plotting\\_core.py:1877\u001b[0m, in \u001b[0;36m_load_backend\u001b[1;34m(backend)\u001b[0m\n\u001b[0;32m   1875\u001b[0m         module \u001b[39m=\u001b[39m importlib\u001b[39m.\u001b[39mimport_module(\u001b[39m\"\u001b[39m\u001b[39mpandas.plotting._matplotlib\u001b[39m\u001b[39m\"\u001b[39m)\n\u001b[0;32m   1876\u001b[0m     \u001b[39mexcept\u001b[39;00m \u001b[39mImportError\u001b[39;00m:\n\u001b[1;32m-> 1877\u001b[0m         \u001b[39mraise\u001b[39;00m \u001b[39mImportError\u001b[39;00m(\n\u001b[0;32m   1878\u001b[0m             \u001b[39m\"\u001b[39m\u001b[39mmatplotlib is required for plotting when the \u001b[39m\u001b[39m\"\u001b[39m\n\u001b[0;32m   1879\u001b[0m             \u001b[39m'\u001b[39m\u001b[39mdefault backend \u001b[39m\u001b[39m\"\u001b[39m\u001b[39mmatplotlib\u001b[39m\u001b[39m\"\u001b[39m\u001b[39m is selected.\u001b[39m\u001b[39m'\u001b[39m\n\u001b[0;32m   1880\u001b[0m         ) \u001b[39mfrom\u001b[39;00m \u001b[39mNone\u001b[39;00m\n\u001b[0;32m   1881\u001b[0m     \u001b[39mreturn\u001b[39;00m module\n\u001b[0;32m   1883\u001b[0m found_backend \u001b[39m=\u001b[39m \u001b[39mFalse\u001b[39;00m\n",
      "\u001b[1;31mImportError\u001b[0m: matplotlib is required for plotting when the default backend \"matplotlib\" is selected."
     ]
    }
   ],
   "source": [
    "train_y.plot('pie')"
   ]
  },
  {
   "cell_type": "markdown",
   "metadata": {},
   "source": [
    "## モデル構築1 (データ加工なし)"
   ]
  },
  {
   "cell_type": "code",
   "execution_count": null,
   "metadata": {},
   "outputs": [],
   "source": [
    "from xgboost import XGBClassifier\n",
    "from sklearn.model_selection import GridSearchCV\n",
    "\n",
    "model = XGBClassifier(random_state=0) # fix seed\n",
    "\n",
    "parameters = {\n",
    "    \"n_estimators\" : [10, 20, 50, 100, 200, 500],\n",
    "    \"max_depth\" : [2, 4, 6, 8, 10, 12, 14, 16, 18, 20]\n",
    "}\n",
    "model_opt = GridSearchCV(model, parameters, scoring=\"neg_mean_absolute_error\")\n",
    "model_opt.fit(train_X, train_y)"
   ]
  }
 ],
 "metadata": {
  "kernelspec": {
   "display_name": ".venv",
   "language": "python",
   "name": "python3"
  },
  "language_info": {
   "codemirror_mode": {
    "name": "ipython",
    "version": 3
   },
   "file_extension": ".py",
   "mimetype": "text/x-python",
   "name": "python",
   "nbconvert_exporter": "python",
   "pygments_lexer": "ipython3",
   "version": "3.10.11"
  }
 },
 "nbformat": 4,
 "nbformat_minor": 2
}
