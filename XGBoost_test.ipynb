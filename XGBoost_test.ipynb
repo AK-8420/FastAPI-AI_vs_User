{
 "cells": [
  {
   "cell_type": "markdown",
   "metadata": {},
   "source": [
    "# XGBoostによる分類モデルのテスト\n",
    "最適なパラメータを探す\n",
    "## データ準備"
   ]
  },
  {
   "cell_type": "code",
   "execution_count": 22,
   "metadata": {},
   "outputs": [],
   "source": [
    "import pandas as pd\n",
    "import matplotlib.pyplot as plt\n",
    "from pprint import pprint\n",
    "from xgboost import XGBClassifier\n",
    "from sklearn.model_selection import train_test_split\n",
    "from sklearn.metrics._scorer import _SCORERS\n",
    "from sklearn.preprocessing import OneHotEncoder\n",
    "from sklearn.model_selection import GridSearchCV"
   ]
  },
  {
   "cell_type": "code",
   "execution_count": 1,
   "metadata": {},
   "outputs": [],
   "source": [
    "df = pd.read_csv(\"./fake_job_postings.csv\")\n",
    "df = df.drop(\"job_id\", axis=1) # job_id = 0,1,2,... 学習価値なし\n",
    "df.fillna('null', inplace=True) # 空の文字列 -> null\n",
    "\n",
    "# 偽文書と本物文書\n",
    "Fakedf = df[ df['fraudulent'] == 1 ]\n",
    "Realdf = df[ df['fraudulent'] == 0 ]\n",
    "\n",
    "# 問題文データのランダム抽出 (偽文書割合50%)\n",
    "detaset_Fake, quiz_Fake = train_test_split(Fakedf, test_size=50)\n",
    "detaset_Real, quiz_Real = train_test_split(Realdf, test_size=50)\n",
    "\n",
    "# 問題文データのランダムシャッフル\n",
    "quizdf = pd.concat([quiz_Real, quiz_Fake])\n",
    "shuffled_df = quizdf.sample(frac=1).reset_index(drop=True)\n",
    "quiz = shuffled_df.drop(\"fraudulent\", axis=1)        # 問題文\n",
    "quiz_solution = shuffled_df[\"fraudulent\"].to_numpy() # 解答\n",
    "\n",
    "# 訓練データとテストデータへの分割 (テストデータ25%)\n",
    "train_Fake, test_Fake = train_test_split(detaset_Fake)\n",
    "train_Real, test_Real = train_test_split(detaset_Real)\n",
    "traindf = pd.concat([train_Real, train_Fake])\n",
    "testdf = pd.concat([test_Real, test_Fake])\n",
    "traindf = traindf.sample(frac=1).reset_index(drop=True)\n",
    "testdf = testdf.sample(frac=1).reset_index(drop=True)\n",
    "train_X = testdf.drop('fraudulent', axis=1)\n",
    "train_y = testdf['fraudulent']\n",
    "test_X = testdf.drop('fraudulent', axis=1)\n",
    "test_y = testdf['fraudulent']"
   ]
  },
  {
   "cell_type": "markdown",
   "metadata": {},
   "source": [
    "データの傾向を確認する。"
   ]
  },
  {
   "cell_type": "code",
   "execution_count": 20,
   "metadata": {},
   "outputs": [
    {
     "name": "stdout",
     "output_type": "stream",
     "text": [
      "                                   title                location  \\\n",
      "0                               Attorney  US, VA, Virginia Beach   \n",
      "1     Senior QA Engineer (3-4 Years Exp)       IN, DL, New Delhi   \n",
      "2  Project Administrator Project Support      PH, , QUEZON CITY    \n",
      "3            Creative Digital Copywriter           GR, I, Athens   \n",
      "4                         Marketing Lead       US, CA, San Diego   \n",
      "\n",
      "       department   salary_range  \\\n",
      "0            null           null   \n",
      "1            null  300000-600000   \n",
      "2  Administrator     10000-30000   \n",
      "3        Creative           null   \n",
      "4            null           null   \n",
      "\n",
      "                                     company_profile  \\\n",
      "0  Tidewater Finance Co. was established in 1992 ...   \n",
      "1  Practical Fish was founded in June, 2012 with ...   \n",
      "2  Collabera is a fast growing, end-to-end inform...   \n",
      "3  Tribal Worldwide Athens is a digitally centric...   \n",
      "4  Cashie Commerce is the fastest way to create a...   \n",
      "\n",
      "                                         description  \\\n",
      "0  Tidewater Finance Company, an industry leader ...   \n",
      "1  QA Engineer will participate in the creation a...   \n",
      "2  Job Title :- Project Administrator Project Sup...   \n",
      "3  Tribal DDB Athens is looking for a creative an...   \n",
      "4  Cashie Commerce is looking for a hands-on, hig...   \n",
      "\n",
      "                                        requirements  \\\n",
      "0  Required Education, Experience and SkillsBache...   \n",
      "1  Experience in creating, managing and executing...   \n",
      "2  • Perform Status Tracking &amp; Reporting.• Pe...   \n",
      "3  The successful applicant will be required to d...   \n",
      "4  To perform this job successfully, an individua...   \n",
      "\n",
      "                                            benefits  telecommuting  \\\n",
      "0  Our company offers a competitive salary plus B...              0   \n",
      "1                                               null              0   \n",
      "2  Collabera is a fast growing, end-to-end inform...              0   \n",
      "3                                               null              0   \n",
      "4  Cashie Commerce offers a competitive benefits ...              0   \n",
      "\n",
      "   has_company_logo  has_questions employment_type required_experience  \\\n",
      "0                 1              1       Full-time    Mid-Senior level   \n",
      "1                 1              1       Full-time    Mid-Senior level   \n",
      "2                 1              0        Contract           Associate   \n",
      "3                 1              1            null                null   \n",
      "4                 1              1       Full-time    Mid-Senior level   \n",
      "\n",
      "  required_education                             industry           function  \n",
      "0  Bachelor's Degree                   Financial Services              Legal  \n",
      "1               null                    Computer Software  Quality Assurance  \n",
      "2               null  Information Technology and Services     Administrative  \n",
      "3               null                                 null               null  \n",
      "4  Bachelor's Degree                             Internet          Marketing  \n"
     ]
    }
   ],
   "source": [
    "print(train_X.head())"
   ]
  },
  {
   "cell_type": "markdown",
   "metadata": {},
   "source": [
    "カテゴリカルデータの値と頻度を確認"
   ]
  },
  {
   "cell_type": "code",
   "execution_count": 29,
   "metadata": {},
   "outputs": [
    {
     "name": "stdout",
     "output_type": "stream",
     "text": [
      "---location---\n",
      "location\n",
      "GB, LND, London          718\n",
      "US, NY, New York         658\n",
      "US, CA, San Francisco    472\n",
      "GR, I, Athens            464\n",
      "null                     346\n",
      "                        ... \n",
      "GB, SFK, Leiston           1\n",
      "GB, LND, Hammersmith       1\n",
      "US, WA, Seattle            1\n",
      "BE                         1\n",
      "GB, WSX, Chichester        1\n",
      "Name: count, Length: 3106, dtype: int64\n",
      "---department---\n",
      "department\n",
      "null                                           11547\n",
      "Sales                                            551\n",
      "Engineering                                      487\n",
      "Marketing                                        401\n",
      "Operations                                       270\n",
      "                                               ...  \n",
      "Commercial Management / Contract Management        1\n",
      "Exec                                               1\n",
      "Marcomm                                            1\n",
      "CRM                                                1\n",
      "Hospitality                                        1\n",
      "Name: count, Length: 1338, dtype: int64\n",
      "---employment_type---\n",
      "employment_type\n",
      "Full-time    11620\n",
      "null          3471\n",
      "Contract      1524\n",
      "Part-time      797\n",
      "Temporary      241\n",
      "Other          227\n",
      "Name: count, dtype: int64\n",
      "---required_experience---\n",
      "required_experience\n",
      "null                7050\n",
      "Mid-Senior level    3809\n",
      "Entry level         2697\n",
      "Associate           2297\n",
      "Not Applicable      1116\n",
      "Director             389\n",
      "Internship           381\n",
      "Executive            141\n",
      "Name: count, dtype: int64\n",
      "---required_education---\n",
      "required_education\n",
      "null                                 8105\n",
      "Bachelor's Degree                    5145\n",
      "High School or equivalent            2080\n",
      "Unspecified                          1397\n",
      "Master's Degree                       416\n",
      "Associate Degree                      274\n",
      "Certification                         170\n",
      "Some College Coursework Completed     102\n",
      "Professional                           74\n",
      "Vocational                             49\n",
      "Some High School Coursework            27\n",
      "Doctorate                              26\n",
      "Vocational - HS Diploma                 9\n",
      "Vocational - Degree                     6\n",
      "Name: count, dtype: int64\n",
      "---industry---\n",
      "industry\n",
      "null                                   4903\n",
      "Information Technology and Services    1734\n",
      "Computer Software                      1376\n",
      "Internet                               1062\n",
      "Marketing and Advertising               828\n",
      "                                       ... \n",
      "Shipbuilding                              1\n",
      "Sporting Goods                            1\n",
      "Museums and Institutions                  1\n",
      "Wine and Spirits                          1\n",
      "Ranching                                  1\n",
      "Name: count, Length: 132, dtype: int64\n",
      "---function---\n",
      "function\n",
      "null                      6455\n",
      "Information Technology    1749\n",
      "Sales                     1468\n",
      "Engineering               1348\n",
      "Customer Service          1229\n",
      "Marketing                  830\n",
      "Administrative             630\n",
      "Design                     340\n",
      "Health Care Provider       338\n",
      "Other                      325\n",
      "Education                  325\n",
      "Management                 317\n",
      "Business Development       228\n",
      "Accounting/Auditing        212\n",
      "Human Resources            205\n",
      "Project Management         183\n",
      "Finance                    172\n",
      "Consulting                 144\n",
      "Writing/Editing            132\n",
      "Art/Creative               132\n",
      "Production                 116\n",
      "Product Management         114\n",
      "Quality Assurance          111\n",
      "Advertising                 90\n",
      "Business Analyst            84\n",
      "Data Analyst                82\n",
      "Public Relations            76\n",
      "Manufacturing               74\n",
      "General Business            68\n",
      "Research                    50\n",
      "Legal                       47\n",
      "Strategy/Planning           46\n",
      "Training                    38\n",
      "Supply Chain                36\n",
      "Financial Analyst           33\n",
      "Distribution                24\n",
      "Purchasing                  15\n",
      "Science                     14\n",
      "Name: count, dtype: int64\n"
     ]
    }
   ],
   "source": [
    "category_columns = ['location','department','employment_type','required_experience','required_education','industry','function']\n",
    "for cc in category_columns:\n",
    "    print(f\"---{cc}---\")\n",
    "    pprint(df[cc].value_counts())"
   ]
  },
  {
   "cell_type": "code",
   "execution_count": 15,
   "metadata": {},
   "outputs": [
    {
     "data": {
      "image/png": "[encoded data removed]",
      "text/plain": [
       "<Figure size 640x480 with 1 Axes>"
      ]
     },
     "metadata": {},
     "output_type": "display_data"
    }
   ],
   "source": [
    "train_y.value_counts().rename(index={0: 'Real', 1: 'Fake'}).plot(kind='pie', autopct='%1.1f%%')\n",
    "plt.title('fraudulents distribution')\n",
    "plt.ylabel('')  # y軸ラベルを非表示にする\n",
    "plt.show()"
   ]
  },
  {
   "cell_type": "markdown",
   "metadata": {},
   "source": [
    "偽文書と本物文書の割合が不均衡のため、精度だけでモデル性能を評価するのは適切ではない。\n",
    "不均衡なデータセットでは、多数派クラス（この場合はReal）を予測するだけで高い精度を達成できるため、モデルの真の性能を正確に反映しないことがある。\n",
    "\n",
    "よって評価にはF1 score（適合率と再現率の調和平均）を用いる。\n",
    "- 適合率（Precision）\n",
    "  - 適合率はFakeと予測されたインスタンスのうち、実際にFakeである割合。\n",
    "  - 積極的にRealと予測するとPrecisionが高くなる\n",
    "- 再現率（Recall）\n",
    "  - 再現率は、実際にFakeであるインスタンスのうち、正しくFakeと予測された割合です。\n",
    "  - 積極的にFakeと予測するとRecallが高くなる\n",
    "- 両者はトレードオフ関係にあり、バランスが大事"
   ]
  },
  {
   "cell_type": "code",
   "execution_count": 18,
   "metadata": {},
   "outputs": [
    {
     "name": "stdout",
     "output_type": "stream",
     "text": [
      "['accuracy',\n",
      " 'adjusted_mutual_info_score',\n",
      " 'adjusted_rand_score',\n",
      " 'average_precision',\n",
      " 'balanced_accuracy',\n",
      " 'completeness_score',\n",
      " 'explained_variance',\n",
      " 'f1',\n",
      " 'f1_macro',\n",
      " 'f1_micro',\n",
      " 'f1_samples',\n",
      " 'f1_weighted',\n",
      " 'fowlkes_mallows_score',\n",
      " 'homogeneity_score',\n",
      " 'jaccard',\n",
      " 'jaccard_macro',\n",
      " 'jaccard_micro',\n",
      " 'jaccard_samples',\n",
      " 'jaccard_weighted',\n",
      " 'matthews_corrcoef',\n",
      " 'max_error',\n",
      " 'mutual_info_score',\n",
      " 'neg_brier_score',\n",
      " 'neg_log_loss',\n",
      " 'neg_mean_absolute_error',\n",
      " 'neg_mean_absolute_percentage_error',\n",
      " 'neg_mean_gamma_deviance',\n",
      " 'neg_mean_poisson_deviance',\n",
      " 'neg_mean_squared_error',\n",
      " 'neg_mean_squared_log_error',\n",
      " 'neg_median_absolute_error',\n",
      " 'neg_negative_likelihood_ratio',\n",
      " 'neg_root_mean_squared_error',\n",
      " 'normalized_mutual_info_score',\n",
      " 'positive_likelihood_ratio',\n",
      " 'precision',\n",
      " 'precision_macro',\n",
      " 'precision_micro',\n",
      " 'precision_samples',\n",
      " 'precision_weighted',\n",
      " 'r2',\n",
      " 'rand_score',\n",
      " 'recall',\n",
      " 'recall_macro',\n",
      " 'recall_micro',\n",
      " 'recall_samples',\n",
      " 'recall_weighted',\n",
      " 'roc_auc',\n",
      " 'roc_auc_ovo',\n",
      " 'roc_auc_ovo_weighted',\n",
      " 'roc_auc_ovr',\n",
      " 'roc_auc_ovr_weighted',\n",
      " 'top_k_accuracy',\n",
      " 'v_measure_score']\n"
     ]
    }
   ],
   "source": [
    "# 利用可能な評価指標\n",
    "pprint(sorted(_SCORERS.keys()))"
   ]
  },
  {
   "cell_type": "markdown",
   "metadata": {},
   "source": [
    "### 訓練データの加工\n",
    "前処理を行って、データを扱いやすくする。\n",
    "\n",
    "#### カテゴリカルデータのエンコード"
   ]
  },
  {
   "cell_type": "code",
   "execution_count": 32,
   "metadata": {},
   "outputs": [
    {
     "name": "stdout",
     "output_type": "stream",
     "text": [
      "Index(['title', 'location', 'department', 'salary_range', 'company_profile',\n",
      "       'description', 'requirements', 'benefits', 'telecommuting',\n",
      "       'has_company_logo', 'has_questions', 'required_experience',\n",
      "       'required_education', 'industry', 'function',\n",
      "       'employment_type_Contract', 'employment_type_Full-time',\n",
      "       'employment_type_Other', 'employment_type_Part-time',\n",
      "       'employment_type_Temporary', 'employment_type_null'],\n",
      "      dtype='object')\n"
     ]
    }
   ],
   "source": [
    "encoded_train_X = pd.get_dummies(train_X, columns=['employment_type'])\n",
    "encoded_test_X = pd.get_dummies(test_X, columns=['employment_type'])\n",
    "print(encoded_train_X.columns)"
   ]
  },
  {
   "cell_type": "markdown",
   "metadata": {},
   "source": [
    "required_experienceとrequired_educationをレベル別に数値化する。"
   ]
  },
  {
   "cell_type": "code",
   "execution_count": null,
   "metadata": {},
   "outputs": [],
   "source": [
    "# required_experience\n",
    "def encoder_experience(text):\n",
    "    education_levels = {\n",
    "        \"Unspecified\": 0,\n",
    "        \"null\": 0,\n",
    "        \"Some High School Coursework\": 1,\n",
    "        \"High School or equivalent\": 2,\n",
    "        \"Vocational - HS Diploma\": 2,\n",
    "        \"Some College Coursework Completed\": 3,\n",
    "        \"Associate Degree\": 4,\n",
    "        \"Vocational - Degree\": 5,\n",
    "        \"Certification\": 5,\n",
    "        \"Bachelor's Degree\": 5,\n",
    "        \"Professional\": 6,\n",
    "        \"Master's Degree\": 7,\n",
    "        \"Doctorate\": 8\n",
    "    }\n",
    "    return education_levels.get(text, None)"
   ]
  },
  {
   "cell_type": "markdown",
   "metadata": {},
   "source": [
    "## モデル構築1 (データ加工なし)"
   ]
  },
  {
   "cell_type": "code",
   "execution_count": 21,
   "metadata": {},
   "outputs": [
    {
     "ename": "ValueError",
     "evalue": "\nAll the 300 fits failed.\nIt is very likely that your model is misconfigured.\nYou can try to debug the error by setting error_score='raise'.\n\nBelow are more details about the failures:\n--------------------------------------------------------------------------------\n300 fits failed with the following error:\nTraceback (most recent call last):\n  File \"c:\\Users\\katai\\studies\\FastAPI_AI_vs_You\\.venv\\lib\\site-packages\\sklearn\\model_selection\\_validation.py\", line 729, in _fit_and_score\n    estimator.fit(X_train, y_train, **fit_params)\n  File \"c:\\Users\\katai\\studies\\FastAPI_AI_vs_You\\.venv\\lib\\site-packages\\xgboost\\core.py\", line 729, in inner_f\n    return func(**kwargs)\n  File \"c:\\Users\\katai\\studies\\FastAPI_AI_vs_You\\.venv\\lib\\site-packages\\xgboost\\sklearn.py\", line 1496, in fit\n    train_dmatrix, evals = _wrap_evaluation_matrices(\n  File \"c:\\Users\\katai\\studies\\FastAPI_AI_vs_You\\.venv\\lib\\site-packages\\xgboost\\sklearn.py\", line 534, in _wrap_evaluation_matrices\n    train_dmatrix = create_dmatrix(\n  File \"c:\\Users\\katai\\studies\\FastAPI_AI_vs_You\\.venv\\lib\\site-packages\\xgboost\\sklearn.py\", line 954, in _create_dmatrix\n    return QuantileDMatrix(\n  File \"c:\\Users\\katai\\studies\\FastAPI_AI_vs_You\\.venv\\lib\\site-packages\\xgboost\\core.py\", line 729, in inner_f\n    return func(**kwargs)\n  File \"c:\\Users\\katai\\studies\\FastAPI_AI_vs_You\\.venv\\lib\\site-packages\\xgboost\\core.py\", line 1528, in __init__\n    self._init(\n  File \"c:\\Users\\katai\\studies\\FastAPI_AI_vs_You\\.venv\\lib\\site-packages\\xgboost\\core.py\", line 1587, in _init\n    it.reraise()\n  File \"c:\\Users\\katai\\studies\\FastAPI_AI_vs_You\\.venv\\lib\\site-packages\\xgboost\\core.py\", line 575, in reraise\n    raise exc  # pylint: disable=raising-bad-type\n  File \"c:\\Users\\katai\\studies\\FastAPI_AI_vs_You\\.venv\\lib\\site-packages\\xgboost\\core.py\", line 556, in _handle_exception\n    return fn()\n  File \"c:\\Users\\katai\\studies\\FastAPI_AI_vs_You\\.venv\\lib\\site-packages\\xgboost\\core.py\", line 640, in <lambda>\n    return self._handle_exception(lambda: self.next(input_data), 0)\n  File \"c:\\Users\\katai\\studies\\FastAPI_AI_vs_You\\.venv\\lib\\site-packages\\xgboost\\data.py\", line 1280, in next\n    input_data(**self.kwargs)\n  File \"c:\\Users\\katai\\studies\\FastAPI_AI_vs_You\\.venv\\lib\\site-packages\\xgboost\\core.py\", line 729, in inner_f\n    return func(**kwargs)\n  File \"c:\\Users\\katai\\studies\\FastAPI_AI_vs_You\\.venv\\lib\\site-packages\\xgboost\\core.py\", line 623, in input_data\n    new, cat_codes, feature_names, feature_types = _proxy_transform(\n  File \"c:\\Users\\katai\\studies\\FastAPI_AI_vs_You\\.venv\\lib\\site-packages\\xgboost\\data.py\", line 1315, in _proxy_transform\n    arr, feature_names, feature_types = _transform_pandas_df(\n  File \"c:\\Users\\katai\\studies\\FastAPI_AI_vs_You\\.venv\\lib\\site-packages\\xgboost\\data.py\", line 490, in _transform_pandas_df\n    _invalid_dataframe_dtype(data)\n  File \"c:\\Users\\katai\\studies\\FastAPI_AI_vs_You\\.venv\\lib\\site-packages\\xgboost\\data.py\", line 308, in _invalid_dataframe_dtype\n    raise ValueError(msg)\nValueError: DataFrame.dtypes for data must be int, float, bool or category. When categorical type is supplied, The experimental DMatrix parameter`enable_categorical` must be set to `True`.  Invalid columns:title: object, location: object, department: object, salary_range: object, company_profile: object, description: object, requirements: object, benefits: object, employment_type: object, required_experience: object, required_education: object, industry: object, function: object\n",
     "output_type": "error",
     "traceback": [
      "\u001b[1;31m---------------------------------------------------------------------------\u001b[0m",
      "\u001b[1;31mValueError\u001b[0m                                Traceback (most recent call last)",
      "\u001b[1;32mc:\\Users\\katai\\studies\\FastAPI_AI_vs_You\\XGBoost_test.ipynb Cell 11\u001b[0m line \u001b[0;36m1\n\u001b[0;32m      <a href='vscode-notebook-cell:/c%3A/Users/katai/studies/FastAPI_AI_vs_You/XGBoost_test.ipynb#X10sZmlsZQ%3D%3D?line=5'>6</a>\u001b[0m parameters \u001b[39m=\u001b[39m {\n\u001b[0;32m      <a href='vscode-notebook-cell:/c%3A/Users/katai/studies/FastAPI_AI_vs_You/XGBoost_test.ipynb#X10sZmlsZQ%3D%3D?line=6'>7</a>\u001b[0m     \u001b[39m\"\u001b[39m\u001b[39mn_estimators\u001b[39m\u001b[39m\"\u001b[39m : [\u001b[39m10\u001b[39m, \u001b[39m20\u001b[39m, \u001b[39m50\u001b[39m, \u001b[39m100\u001b[39m, \u001b[39m200\u001b[39m, \u001b[39m500\u001b[39m],\n\u001b[0;32m      <a href='vscode-notebook-cell:/c%3A/Users/katai/studies/FastAPI_AI_vs_You/XGBoost_test.ipynb#X10sZmlsZQ%3D%3D?line=7'>8</a>\u001b[0m     \u001b[39m\"\u001b[39m\u001b[39mmax_depth\u001b[39m\u001b[39m\"\u001b[39m : [\u001b[39m2\u001b[39m, \u001b[39m4\u001b[39m, \u001b[39m6\u001b[39m, \u001b[39m8\u001b[39m, \u001b[39m10\u001b[39m, \u001b[39m12\u001b[39m, \u001b[39m14\u001b[39m, \u001b[39m16\u001b[39m, \u001b[39m18\u001b[39m, \u001b[39m20\u001b[39m]\n\u001b[0;32m      <a href='vscode-notebook-cell:/c%3A/Users/katai/studies/FastAPI_AI_vs_You/XGBoost_test.ipynb#X10sZmlsZQ%3D%3D?line=8'>9</a>\u001b[0m }\n\u001b[0;32m     <a href='vscode-notebook-cell:/c%3A/Users/katai/studies/FastAPI_AI_vs_You/XGBoost_test.ipynb#X10sZmlsZQ%3D%3D?line=9'>10</a>\u001b[0m model_opt \u001b[39m=\u001b[39m GridSearchCV(model, parameters, scoring\u001b[39m=\u001b[39m\u001b[39m\"\u001b[39m\u001b[39mf1\u001b[39m\u001b[39m\"\u001b[39m)\n\u001b[1;32m---> <a href='vscode-notebook-cell:/c%3A/Users/katai/studies/FastAPI_AI_vs_You/XGBoost_test.ipynb#X10sZmlsZQ%3D%3D?line=10'>11</a>\u001b[0m model_opt\u001b[39m.\u001b[39;49mfit(train_X, train_y)\n\u001b[0;32m     <a href='vscode-notebook-cell:/c%3A/Users/katai/studies/FastAPI_AI_vs_You/XGBoost_test.ipynb#X10sZmlsZQ%3D%3D?line=11'>12</a>\u001b[0m \u001b[39mprint\u001b[39m(model_opt\u001b[39m.\u001b[39mbest_params_)\n",
      "File \u001b[1;32mc:\\Users\\katai\\studies\\FastAPI_AI_vs_You\\.venv\\lib\\site-packages\\sklearn\\base.py:1152\u001b[0m, in \u001b[0;36m_fit_context.<locals>.decorator.<locals>.wrapper\u001b[1;34m(estimator, *args, **kwargs)\u001b[0m\n\u001b[0;32m   1145\u001b[0m     estimator\u001b[39m.\u001b[39m_validate_params()\n\u001b[0;32m   1147\u001b[0m \u001b[39mwith\u001b[39;00m config_context(\n\u001b[0;32m   1148\u001b[0m     skip_parameter_validation\u001b[39m=\u001b[39m(\n\u001b[0;32m   1149\u001b[0m         prefer_skip_nested_validation \u001b[39mor\u001b[39;00m global_skip_validation\n\u001b[0;32m   1150\u001b[0m     )\n\u001b[0;32m   1151\u001b[0m ):\n\u001b[1;32m-> 1152\u001b[0m     \u001b[39mreturn\u001b[39;00m fit_method(estimator, \u001b[39m*\u001b[39margs, \u001b[39m*\u001b[39m\u001b[39m*\u001b[39mkwargs)\n",
      "File \u001b[1;32mc:\\Users\\katai\\studies\\FastAPI_AI_vs_You\\.venv\\lib\\site-packages\\sklearn\\model_selection\\_search.py:898\u001b[0m, in \u001b[0;36mBaseSearchCV.fit\u001b[1;34m(self, X, y, groups, **fit_params)\u001b[0m\n\u001b[0;32m    892\u001b[0m     results \u001b[39m=\u001b[39m \u001b[39mself\u001b[39m\u001b[39m.\u001b[39m_format_results(\n\u001b[0;32m    893\u001b[0m         all_candidate_params, n_splits, all_out, all_more_results\n\u001b[0;32m    894\u001b[0m     )\n\u001b[0;32m    896\u001b[0m     \u001b[39mreturn\u001b[39;00m results\n\u001b[1;32m--> 898\u001b[0m \u001b[39mself\u001b[39;49m\u001b[39m.\u001b[39;49m_run_search(evaluate_candidates)\n\u001b[0;32m    900\u001b[0m \u001b[39m# multimetric is determined here because in the case of a callable\u001b[39;00m\n\u001b[0;32m    901\u001b[0m \u001b[39m# self.scoring the return type is only known after calling\u001b[39;00m\n\u001b[0;32m    902\u001b[0m first_test_score \u001b[39m=\u001b[39m all_out[\u001b[39m0\u001b[39m][\u001b[39m\"\u001b[39m\u001b[39mtest_scores\u001b[39m\u001b[39m\"\u001b[39m]\n",
      "File \u001b[1;32mc:\\Users\\katai\\studies\\FastAPI_AI_vs_You\\.venv\\lib\\site-packages\\sklearn\\model_selection\\_search.py:1422\u001b[0m, in \u001b[0;36mGridSearchCV._run_search\u001b[1;34m(self, evaluate_candidates)\u001b[0m\n\u001b[0;32m   1420\u001b[0m \u001b[39mdef\u001b[39;00m \u001b[39m_run_search\u001b[39m(\u001b[39mself\u001b[39m, evaluate_candidates):\n\u001b[0;32m   1421\u001b[0m \u001b[39m    \u001b[39m\u001b[39m\"\"\"Search all candidates in param_grid\"\"\"\u001b[39;00m\n\u001b[1;32m-> 1422\u001b[0m     evaluate_candidates(ParameterGrid(\u001b[39mself\u001b[39;49m\u001b[39m.\u001b[39;49mparam_grid))\n",
      "File \u001b[1;32mc:\\Users\\katai\\studies\\FastAPI_AI_vs_You\\.venv\\lib\\site-packages\\sklearn\\model_selection\\_search.py:875\u001b[0m, in \u001b[0;36mBaseSearchCV.fit.<locals>.evaluate_candidates\u001b[1;34m(candidate_params, cv, more_results)\u001b[0m\n\u001b[0;32m    868\u001b[0m \u001b[39melif\u001b[39;00m \u001b[39mlen\u001b[39m(out) \u001b[39m!=\u001b[39m n_candidates \u001b[39m*\u001b[39m n_splits:\n\u001b[0;32m    869\u001b[0m     \u001b[39mraise\u001b[39;00m \u001b[39mValueError\u001b[39;00m(\n\u001b[0;32m    870\u001b[0m         \u001b[39m\"\u001b[39m\u001b[39mcv.split and cv.get_n_splits returned \u001b[39m\u001b[39m\"\u001b[39m\n\u001b[0;32m    871\u001b[0m         \u001b[39m\"\u001b[39m\u001b[39minconsistent results. Expected \u001b[39m\u001b[39m{}\u001b[39;00m\u001b[39m \u001b[39m\u001b[39m\"\u001b[39m\n\u001b[0;32m    872\u001b[0m         \u001b[39m\"\u001b[39m\u001b[39msplits, got \u001b[39m\u001b[39m{}\u001b[39;00m\u001b[39m\"\u001b[39m\u001b[39m.\u001b[39mformat(n_splits, \u001b[39mlen\u001b[39m(out) \u001b[39m/\u001b[39m\u001b[39m/\u001b[39m n_candidates)\n\u001b[0;32m    873\u001b[0m     )\n\u001b[1;32m--> 875\u001b[0m _warn_or_raise_about_fit_failures(out, \u001b[39mself\u001b[39;49m\u001b[39m.\u001b[39;49merror_score)\n\u001b[0;32m    877\u001b[0m \u001b[39m# For callable self.scoring, the return type is only know after\u001b[39;00m\n\u001b[0;32m    878\u001b[0m \u001b[39m# calling. If the return type is a dictionary, the error scores\u001b[39;00m\n\u001b[0;32m    879\u001b[0m \u001b[39m# can now be inserted with the correct key. The type checking\u001b[39;00m\n\u001b[0;32m    880\u001b[0m \u001b[39m# of out will be done in `_insert_error_scores`.\u001b[39;00m\n\u001b[0;32m    881\u001b[0m \u001b[39mif\u001b[39;00m \u001b[39mcallable\u001b[39m(\u001b[39mself\u001b[39m\u001b[39m.\u001b[39mscoring):\n",
      "File \u001b[1;32mc:\\Users\\katai\\studies\\FastAPI_AI_vs_You\\.venv\\lib\\site-packages\\sklearn\\model_selection\\_validation.py:414\u001b[0m, in \u001b[0;36m_warn_or_raise_about_fit_failures\u001b[1;34m(results, error_score)\u001b[0m\n\u001b[0;32m    407\u001b[0m \u001b[39mif\u001b[39;00m num_failed_fits \u001b[39m==\u001b[39m num_fits:\n\u001b[0;32m    408\u001b[0m     all_fits_failed_message \u001b[39m=\u001b[39m (\n\u001b[0;32m    409\u001b[0m         \u001b[39mf\u001b[39m\u001b[39m\"\u001b[39m\u001b[39m\\n\u001b[39;00m\u001b[39mAll the \u001b[39m\u001b[39m{\u001b[39;00mnum_fits\u001b[39m}\u001b[39;00m\u001b[39m fits failed.\u001b[39m\u001b[39m\\n\u001b[39;00m\u001b[39m\"\u001b[39m\n\u001b[0;32m    410\u001b[0m         \u001b[39m\"\u001b[39m\u001b[39mIt is very likely that your model is misconfigured.\u001b[39m\u001b[39m\\n\u001b[39;00m\u001b[39m\"\u001b[39m\n\u001b[0;32m    411\u001b[0m         \u001b[39m\"\u001b[39m\u001b[39mYou can try to debug the error by setting error_score=\u001b[39m\u001b[39m'\u001b[39m\u001b[39mraise\u001b[39m\u001b[39m'\u001b[39m\u001b[39m.\u001b[39m\u001b[39m\\n\u001b[39;00m\u001b[39m\\n\u001b[39;00m\u001b[39m\"\u001b[39m\n\u001b[0;32m    412\u001b[0m         \u001b[39mf\u001b[39m\u001b[39m\"\u001b[39m\u001b[39mBelow are more details about the failures:\u001b[39m\u001b[39m\\n\u001b[39;00m\u001b[39m{\u001b[39;00mfit_errors_summary\u001b[39m}\u001b[39;00m\u001b[39m\"\u001b[39m\n\u001b[0;32m    413\u001b[0m     )\n\u001b[1;32m--> 414\u001b[0m     \u001b[39mraise\u001b[39;00m \u001b[39mValueError\u001b[39;00m(all_fits_failed_message)\n\u001b[0;32m    416\u001b[0m \u001b[39melse\u001b[39;00m:\n\u001b[0;32m    417\u001b[0m     some_fits_failed_message \u001b[39m=\u001b[39m (\n\u001b[0;32m    418\u001b[0m         \u001b[39mf\u001b[39m\u001b[39m\"\u001b[39m\u001b[39m\\n\u001b[39;00m\u001b[39m{\u001b[39;00mnum_failed_fits\u001b[39m}\u001b[39;00m\u001b[39m fits failed out of a total of \u001b[39m\u001b[39m{\u001b[39;00mnum_fits\u001b[39m}\u001b[39;00m\u001b[39m.\u001b[39m\u001b[39m\\n\u001b[39;00m\u001b[39m\"\u001b[39m\n\u001b[0;32m    419\u001b[0m         \u001b[39m\"\u001b[39m\u001b[39mThe score on these train-test partitions for these parameters\u001b[39m\u001b[39m\"\u001b[39m\n\u001b[1;32m   (...)\u001b[0m\n\u001b[0;32m    423\u001b[0m         \u001b[39mf\u001b[39m\u001b[39m\"\u001b[39m\u001b[39mBelow are more details about the failures:\u001b[39m\u001b[39m\\n\u001b[39;00m\u001b[39m{\u001b[39;00mfit_errors_summary\u001b[39m}\u001b[39;00m\u001b[39m\"\u001b[39m\n\u001b[0;32m    424\u001b[0m     )\n",
      "\u001b[1;31mValueError\u001b[0m: \nAll the 300 fits failed.\nIt is very likely that your model is misconfigured.\nYou can try to debug the error by setting error_score='raise'.\n\nBelow are more details about the failures:\n--------------------------------------------------------------------------------\n300 fits failed with the following error:\nTraceback (most recent call last):\n  File \"c:\\Users\\katai\\studies\\FastAPI_AI_vs_You\\.venv\\lib\\site-packages\\sklearn\\model_selection\\_validation.py\", line 729, in _fit_and_score\n    estimator.fit(X_train, y_train, **fit_params)\n  File \"c:\\Users\\katai\\studies\\FastAPI_AI_vs_You\\.venv\\lib\\site-packages\\xgboost\\core.py\", line 729, in inner_f\n    return func(**kwargs)\n  File \"c:\\Users\\katai\\studies\\FastAPI_AI_vs_You\\.venv\\lib\\site-packages\\xgboost\\sklearn.py\", line 1496, in fit\n    train_dmatrix, evals = _wrap_evaluation_matrices(\n  File \"c:\\Users\\katai\\studies\\FastAPI_AI_vs_You\\.venv\\lib\\site-packages\\xgboost\\sklearn.py\", line 534, in _wrap_evaluation_matrices\n    train_dmatrix = create_dmatrix(\n  File \"c:\\Users\\katai\\studies\\FastAPI_AI_vs_You\\.venv\\lib\\site-packages\\xgboost\\sklearn.py\", line 954, in _create_dmatrix\n    return QuantileDMatrix(\n  File \"c:\\Users\\katai\\studies\\FastAPI_AI_vs_You\\.venv\\lib\\site-packages\\xgboost\\core.py\", line 729, in inner_f\n    return func(**kwargs)\n  File \"c:\\Users\\katai\\studies\\FastAPI_AI_vs_You\\.venv\\lib\\site-packages\\xgboost\\core.py\", line 1528, in __init__\n    self._init(\n  File \"c:\\Users\\katai\\studies\\FastAPI_AI_vs_You\\.venv\\lib\\site-packages\\xgboost\\core.py\", line 1587, in _init\n    it.reraise()\n  File \"c:\\Users\\katai\\studies\\FastAPI_AI_vs_You\\.venv\\lib\\site-packages\\xgboost\\core.py\", line 575, in reraise\n    raise exc  # pylint: disable=raising-bad-type\n  File \"c:\\Users\\katai\\studies\\FastAPI_AI_vs_You\\.venv\\lib\\site-packages\\xgboost\\core.py\", line 556, in _handle_exception\n    return fn()\n  File \"c:\\Users\\katai\\studies\\FastAPI_AI_vs_You\\.venv\\lib\\site-packages\\xgboost\\core.py\", line 640, in <lambda>\n    return self._handle_exception(lambda: self.next(input_data), 0)\n  File \"c:\\Users\\katai\\studies\\FastAPI_AI_vs_You\\.venv\\lib\\site-packages\\xgboost\\data.py\", line 1280, in next\n    input_data(**self.kwargs)\n  File \"c:\\Users\\katai\\studies\\FastAPI_AI_vs_You\\.venv\\lib\\site-packages\\xgboost\\core.py\", line 729, in inner_f\n    return func(**kwargs)\n  File \"c:\\Users\\katai\\studies\\FastAPI_AI_vs_You\\.venv\\lib\\site-packages\\xgboost\\core.py\", line 623, in input_data\n    new, cat_codes, feature_names, feature_types = _proxy_transform(\n  File \"c:\\Users\\katai\\studies\\FastAPI_AI_vs_You\\.venv\\lib\\site-packages\\xgboost\\data.py\", line 1315, in _proxy_transform\n    arr, feature_names, feature_types = _transform_pandas_df(\n  File \"c:\\Users\\katai\\studies\\FastAPI_AI_vs_You\\.venv\\lib\\site-packages\\xgboost\\data.py\", line 490, in _transform_pandas_df\n    _invalid_dataframe_dtype(data)\n  File \"c:\\Users\\katai\\studies\\FastAPI_AI_vs_You\\.venv\\lib\\site-packages\\xgboost\\data.py\", line 308, in _invalid_dataframe_dtype\n    raise ValueError(msg)\nValueError: DataFrame.dtypes for data must be int, float, bool or category. When categorical type is supplied, The experimental DMatrix parameter`enable_categorical` must be set to `True`.  Invalid columns:title: object, location: object, department: object, salary_range: object, company_profile: object, description: object, requirements: object, benefits: object, employment_type: object, required_experience: object, required_education: object, industry: object, function: object\n"
     ]
    }
   ],
   "source": [
    "model = XGBClassifier(random_state=0) # fix seed\n",
    "\n",
    "parameters = {\n",
    "    \"n_estimators\" : [10, 20, 50, 100, 200, 500],\n",
    "    \"max_depth\" : [2, 4, 6, 8, 10, 12, 14, 16, 18, 20]\n",
    "}\n",
    "model_opt = GridSearchCV(model, parameters, scoring=\"f1\")\n",
    "model_opt.fit(train_X, train_y)\n",
    "print(model_opt.best_params_)"
   ]
  }
 ],
 "metadata": {
  "kernelspec": {
   "display_name": ".venv",
   "language": "python",
   "name": "python3"
  },
  "language_info": {
   "codemirror_mode": {
    "name": "ipython",
    "version": 3
   },
   "file_extension": ".py",
   "mimetype": "text/x-python",
   "name": "python",
   "nbconvert_exporter": "python",
   "pygments_lexer": "ipython3",
   "version": "3.10.11"
  }
 },
 "nbformat": 4,
 "nbformat_minor": 2
}
