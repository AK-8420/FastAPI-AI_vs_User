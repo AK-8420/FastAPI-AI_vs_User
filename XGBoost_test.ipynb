{
 "cells": [
  {
   "cell_type": "markdown",
   "metadata": {},
   "source": [
    "# XGBoostによる分類モデルのテスト\n",
    "最適なパラメータを探す\n",
    "## データ準備"
   ]
  },
  {
   "cell_type": "code",
   "execution_count": 63,
   "metadata": {},
   "outputs": [],
   "source": [
    "import re\n",
    "import copy\n",
    "import pandas as pd\n",
    "import numpy as np\n",
    "import matplotlib.pyplot as plt\n",
    "import xgboost as xgb\n",
    "import nltk\n",
    "from pprint import pprint\n",
    "from itertools import product\n",
    "from sklearn.model_selection import train_test_split\n",
    "from sklearn.metrics._scorer import _SCORERS\n",
    "from sklearn.metrics import f1_score\n",
    "from sklearn.model_selection import GridSearchCV\n",
    "from sklearn.feature_extraction.text import TfidfVectorizer\n",
    "from nltk.stem import WordNetLemmatizer"
   ]
  },
  {
   "cell_type": "code",
   "execution_count": 64,
   "metadata": {},
   "outputs": [],
   "source": [
    "df = pd.read_csv(\"./fake_job_postings.csv\")\n",
    "df = df.drop(\"job_id\", axis=1) # job_id = 0,1,2,... 学習価値なし\n",
    "# df.fillna('null', inplace=True) # 空の文字列 -> null (XGBoost APIでは無くてもいける？)\n",
    "\n",
    "# 偽文書と本物文書\n",
    "Fakedf = df[ df['fraudulent'] == 1 ]\n",
    "Realdf = df[ df['fraudulent'] == 0 ]\n",
    "\n",
    "# 問題文データのランダム抽出 (偽文書割合50%)\n",
    "detaset_Fake, quiz_Fake = train_test_split(Fakedf, test_size=50)\n",
    "detaset_Real, quiz_Real = train_test_split(Realdf, test_size=50)\n",
    "\n",
    "# 問題文データのランダムシャッフル\n",
    "quizdf = pd.concat([quiz_Real, quiz_Fake])\n",
    "shuffled_df = quizdf.sample(frac=1).reset_index(drop=True)\n",
    "quiz = shuffled_df.drop(\"fraudulent\", axis=1)        # 問題文\n",
    "quiz_solution = shuffled_df[\"fraudulent\"].to_numpy() # 解答\n",
    "\n",
    "# 訓練データとテストデータへの分割 (テストデータ25%)\n",
    "train_Fake, test_Fake = train_test_split(detaset_Fake)\n",
    "train_Real, test_Real = train_test_split(detaset_Real)\n",
    "traindf = pd.concat([train_Real, train_Fake])\n",
    "testdf = pd.concat([test_Real, test_Fake])\n",
    "traindf = traindf.sample(frac=1).reset_index(drop=True)\n",
    "testdf = testdf.sample(frac=1).reset_index(drop=True)\n",
    "train_X = testdf.drop('fraudulent', axis=1)\n",
    "train_y = testdf['fraudulent']\n",
    "test_X = testdf.drop('fraudulent', axis=1)\n",
    "test_y = testdf['fraudulent']"
   ]
  },
  {
   "cell_type": "markdown",
   "metadata": {},
   "source": [
    "データの傾向を確認する。"
   ]
  },
  {
   "cell_type": "code",
   "execution_count": 65,
   "metadata": {},
   "outputs": [
    {
     "name": "stdout",
     "output_type": "stream",
     "text": [
      "                                       title               location  \\\n",
      "0  Consulting Director - Sales Effectiveness  US, CA, San Francisco   \n",
      "1                 Phone Sales Representative    US, NY, Farmingdale   \n",
      "2             Contact Center Representatives      US, NV, Las Vegas   \n",
      "3            Trend Editor/Berlin (Part time)         DE, BE, Berlin   \n",
      "4                            Senior Sysadmin           GR, , Athens   \n",
      "\n",
      "  department salary_range                                    company_profile  \\\n",
      "0        NaN          NaN  Talent Response connects flexible professional...   \n",
      "1        NaN          NaN  For over 20 years NAC Marketing Company, LLC d...   \n",
      "2        NaN          NaN  Tidewater Finance Co. was established in 1992 ...   \n",
      "3        NaN          NaN  LHBS is an unconventional strategy firm with o...   \n",
      "4        NOC          NaN  GRNET provides high-quality international and ...   \n",
      "\n",
      "                                         description  \\\n",
      "0  Company BackgroundTalent Response has partnere...   \n",
      "1  Sales Representative: Hourly + commission + op...   \n",
      "2  Tidewater Finance Company, located in Henderso...   \n",
      "3  LHBS is a strategy firm that approaches market...   \n",
      "4  GRNET's Network Operations Centre (NOC) admini...   \n",
      "\n",
      "                                        requirements  \\\n",
      "0  The Consulting Director must bring a passion f...   \n",
      "1  Requirements• 6 months work experience• High s...   \n",
      "2  Primary responsibilities include, but are not ...   \n",
      "3  Your background:Native proficiency of English ...   \n",
      "4  Technical skills:Debian GNU/Linux knowledgeVir...   \n",
      "\n",
      "                                            benefits  telecommuting  \\\n",
      "0                                                NaN              0   \n",
      "1   We believe in the philosophy ‘be healthy, liv...              0   \n",
      "2  Our company offers a competitive salary plus B...              0   \n",
      "3  Our offer:Competitive salaryTwo-week intense t...              0   \n",
      "4                                                NaN              0   \n",
      "\n",
      "   has_company_logo  has_questions employment_type required_experience  \\\n",
      "0                 1              1       Full-time            Director   \n",
      "1                 1              0       Full-time         Entry level   \n",
      "2                 1              0       Full-time         Entry level   \n",
      "3                 1              1       Part-time                 NaN   \n",
      "4                 1              1             NaN                 NaN   \n",
      "\n",
      "  required_education               industry function  \n",
      "0                NaN  Management Consulting    Sales  \n",
      "1                NaN                    NaN    Sales  \n",
      "2                NaN     Financial Services      NaN  \n",
      "3                NaN                    NaN      NaN  \n",
      "4                NaN                    NaN      NaN  \n"
     ]
    }
   ],
   "source": [
    "print(train_X.head())"
   ]
  },
  {
   "cell_type": "markdown",
   "metadata": {},
   "source": [
    "カテゴリカルデータの値と頻度を確認"
   ]
  },
  {
   "cell_type": "code",
   "execution_count": 66,
   "metadata": {},
   "outputs": [
    {
     "name": "stdout",
     "output_type": "stream",
     "text": [
      "---location---\n",
      "location\n",
      "US, NY, New York         190\n",
      "GB, LND, London          161\n",
      "GR, I, Athens            121\n",
      "US, CA, San Francisco    115\n",
      "US, IL, Chicago           66\n",
      "                        ... \n",
      "US, FL, Coral Springs      1\n",
      "US, RI, Kingston           1\n",
      "US, VA, Sterling           1\n",
      "US, UT, Cedar City         1\n",
      "CY, 02, Limassol           1\n",
      "Name: count, Length: 1364, dtype: int64\n",
      "---department---\n",
      "department\n",
      "Engineering                       141\n",
      "Sales                             123\n",
      "Marketing                          99\n",
      "Operations                         69\n",
      "IT                                 61\n",
      "                                 ... \n",
      "Omaha                               1\n",
      "New York City or Paris, France      1\n",
      "Estimating                          1\n",
      "RN                                  1\n",
      "Systems Operations                  1\n",
      "Name: count, Length: 540, dtype: int64\n",
      "---salary_range---\n",
      "salary_range\n",
      "0-0              39\n",
      "30000-40000      16\n",
      "40000-50000      12\n",
      "50000-70000      11\n",
      "35000-45000      11\n",
      "                 ..\n",
      "55000-755000      1\n",
      "16000-20000       1\n",
      "250000-500000     1\n",
      "37500-42500       1\n",
      "100000-110000     1\n",
      "Name: count, Length: 380, dtype: int64\n",
      "---employment_type---\n",
      "employment_type\n",
      "Full-time    2878\n",
      "Contract      394\n",
      "Part-time     193\n",
      "Temporary      76\n",
      "Other          53\n",
      "Name: count, dtype: int64\n",
      "---required_experience---\n",
      "required_experience\n",
      "Mid-Senior level    928\n",
      "Entry level         675\n",
      "Associate           576\n",
      "Not Applicable      280\n",
      "Internship           98\n",
      "Director             88\n",
      "Executive            32\n",
      "Name: count, dtype: int64\n",
      "---required_education---\n",
      "required_education\n",
      "Bachelor's Degree                    1296\n",
      "High School or equivalent             521\n",
      "Unspecified                           348\n",
      "Master's Degree                       106\n",
      "Associate Degree                       70\n",
      "Certification                          40\n",
      "Some College Coursework Completed      22\n",
      "Professional                           20\n",
      "Vocational                             11\n",
      "Doctorate                              10\n",
      "Some High School Coursework             8\n",
      "Vocational - HS Diploma                 1\n",
      "Name: count, dtype: int64\n",
      "---industry---\n",
      "industry\n",
      "Information Technology and Services    441\n",
      "Computer Software                      350\n",
      "Internet                               249\n",
      "Education Management                   211\n",
      "Marketing and Advertising              210\n",
      "                                      ... \n",
      "Libraries                                1\n",
      "Nanotechnology                           1\n",
      "Wireless                                 1\n",
      "Textiles                                 1\n",
      "Ranching                                 1\n",
      "Name: count, Length: 117, dtype: int64\n",
      "---function---\n",
      "function\n",
      "Information Technology    459\n",
      "Sales                     370\n",
      "Engineering               332\n",
      "Customer Service          302\n",
      "Marketing                 193\n",
      "Administrative            155\n",
      "Other                      81\n",
      "Education                  79\n",
      "Health Care Provider       78\n",
      "Management                 75\n",
      "Design                     73\n",
      "Business Development       53\n",
      "Accounting/Auditing        48\n",
      "Human Resources            47\n",
      "Project Management         47\n",
      "Finance                    45\n",
      "Writing/Editing            39\n",
      "Consulting                 34\n",
      "Art/Creative               33\n",
      "Advertising                30\n",
      "Quality Assurance          26\n",
      "Production                 26\n",
      "Product Management         23\n",
      "Manufacturing              22\n",
      "Business Analyst           19\n",
      "Public Relations           17\n",
      "Data Analyst               15\n",
      "Strategy/Planning          15\n",
      "General Business           13\n",
      "Legal                      13\n",
      "Research                   12\n",
      "Training                   11\n",
      "Supply Chain               11\n",
      "Financial Analyst          10\n",
      "Distribution                8\n",
      "Purchasing                  5\n",
      "Science                     3\n",
      "Name: count, dtype: int64\n"
     ]
    }
   ],
   "source": [
    "category_columns = ['location','department','salary_range','employment_type','required_experience','required_education','industry','function']\n",
    "for cc in category_columns:\n",
    "    print(f\"---{cc}---\")\n",
    "    pprint(train_X[cc].value_counts())"
   ]
  },
  {
   "cell_type": "markdown",
   "metadata": {},
   "source": [
    "カテゴリカルデータをすべてOne-hot encodeするのは現実的ではない。"
   ]
  },
  {
   "cell_type": "code",
   "execution_count": 67,
   "metadata": {},
   "outputs": [
    {
     "data": {
      "image/png": "[encoded data removed]",
      "text/plain": [
       "<Figure size 640x480 with 1 Axes>"
      ]
     },
     "metadata": {},
     "output_type": "display_data"
    }
   ],
   "source": [
    "train_y.value_counts().rename(index={0: 'Real', 1: 'Fake'}).plot(kind='pie', autopct='%1.1f%%')\n",
    "plt.title('fraudulents distribution')\n",
    "plt.ylabel('')  # y軸ラベルを非表示にする\n",
    "plt.show()"
   ]
  },
  {
   "cell_type": "markdown",
   "metadata": {},
   "source": [
    "偽文書と本物文書の割合が不均衡のため、精度だけでモデル性能を評価するのは適切ではない。\n",
    "不均衡なデータセットでは、多数派クラス（この場合はReal）を予測するだけで高い精度を達成できるため、モデルの真の性能を正確に反映しないことがある。\n",
    "\n",
    "よって評価にはF1 score（適合率と再現率の調和平均）を用いる。\n",
    "- 適合率（Precision）\n",
    "  - 適合率はFakeと予測されたインスタンスのうち、実際にFakeである割合。\n",
    "  - 積極的にRealと予測するとPrecisionが高くなる\n",
    "- 再現率（Recall）\n",
    "  - 再現率は、実際にFakeであるインスタンスのうち、正しくFakeと予測された割合です。\n",
    "  - 積極的にFakeと予測するとRecallが高くなる\n",
    "- 両者はトレードオフ関係にあり、バランスが大事"
   ]
  },
  {
   "cell_type": "code",
   "execution_count": 68,
   "metadata": {},
   "outputs": [
    {
     "name": "stdout",
     "output_type": "stream",
     "text": [
      "['accuracy',\n",
      " 'adjusted_mutual_info_score',\n",
      " 'adjusted_rand_score',\n",
      " 'average_precision',\n",
      " 'balanced_accuracy',\n",
      " 'completeness_score',\n",
      " 'explained_variance',\n",
      " 'f1',\n",
      " 'f1_macro',\n",
      " 'f1_micro',\n",
      " 'f1_samples',\n",
      " 'f1_weighted',\n",
      " 'fowlkes_mallows_score',\n",
      " 'homogeneity_score',\n",
      " 'jaccard',\n",
      " 'jaccard_macro',\n",
      " 'jaccard_micro',\n",
      " 'jaccard_samples',\n",
      " 'jaccard_weighted',\n",
      " 'matthews_corrcoef',\n",
      " 'max_error',\n",
      " 'mutual_info_score',\n",
      " 'neg_brier_score',\n",
      " 'neg_log_loss',\n",
      " 'neg_mean_absolute_error',\n",
      " 'neg_mean_absolute_percentage_error',\n",
      " 'neg_mean_gamma_deviance',\n",
      " 'neg_mean_poisson_deviance',\n",
      " 'neg_mean_squared_error',\n",
      " 'neg_mean_squared_log_error',\n",
      " 'neg_median_absolute_error',\n",
      " 'neg_negative_likelihood_ratio',\n",
      " 'neg_root_mean_squared_error',\n",
      " 'normalized_mutual_info_score',\n",
      " 'positive_likelihood_ratio',\n",
      " 'precision',\n",
      " 'precision_macro',\n",
      " 'precision_micro',\n",
      " 'precision_samples',\n",
      " 'precision_weighted',\n",
      " 'r2',\n",
      " 'rand_score',\n",
      " 'recall',\n",
      " 'recall_macro',\n",
      " 'recall_micro',\n",
      " 'recall_samples',\n",
      " 'recall_weighted',\n",
      " 'roc_auc',\n",
      " 'roc_auc_ovo',\n",
      " 'roc_auc_ovo_weighted',\n",
      " 'roc_auc_ovr',\n",
      " 'roc_auc_ovr_weighted',\n",
      " 'top_k_accuracy',\n",
      " 'v_measure_score']\n"
     ]
    }
   ],
   "source": [
    "# 利用可能な評価指標\n",
    "pprint(sorted(_SCORERS.keys()))"
   ]
  },
  {
   "cell_type": "markdown",
   "metadata": {},
   "source": [
    "### 訓練データの加工\n",
    "前処理を行って、データを扱いやすくする。\n",
    "\n",
    "#### カテゴリカルデータのエンコード"
   ]
  },
  {
   "cell_type": "code",
   "execution_count": 69,
   "metadata": {},
   "outputs": [
    {
     "name": "stdout",
     "output_type": "stream",
     "text": [
      "Index(['title', 'location', 'department', 'salary_range', 'company_profile',\n",
      "       'description', 'requirements', 'benefits', 'telecommuting',\n",
      "       'has_company_logo', 'has_questions', 'required_experience',\n",
      "       'required_education', 'industry', 'function',\n",
      "       'employment_type_Contract', 'employment_type_Full-time',\n",
      "       'employment_type_Other', 'employment_type_Part-time',\n",
      "       'employment_type_Temporary'],\n",
      "      dtype='object')\n"
     ]
    }
   ],
   "source": [
    "encoded_train_X = pd.get_dummies(train_X, columns=['employment_type'])\n",
    "encoded_test_X = pd.get_dummies(test_X, columns=['employment_type'])\n",
    "print(encoded_train_X.columns)"
   ]
  },
  {
   "cell_type": "markdown",
   "metadata": {},
   "source": [
    "required_experienceとrequired_educationをレベル別に数値化する。"
   ]
  },
  {
   "cell_type": "code",
   "execution_count": 70,
   "metadata": {},
   "outputs": [],
   "source": [
    "def int_convert(value):\n",
    "    try:\n",
    "        output = int(value)\n",
    "        return output\n",
    "    except ValueError:\n",
    "        return np.nan\n",
    "    \n",
    "# required_experience\n",
    "def encoder_experience(text):\n",
    "    experience_levels = {\n",
    "        \"Not Applicable\": 0,\n",
    "        \"Internship\": 1,\n",
    "        \"Entry level\": 2,\n",
    "        \"Associate\": 3,\n",
    "        \"Mid-Senior level\": 4,\n",
    "        \"Director\": 5,\n",
    "        \"Executive\": 6\n",
    "    }\n",
    "    return int_convert(experience_levels.get(text, np.nan))\n",
    "\n",
    "# required_education\n",
    "def encoder_education(text):\n",
    "    education_levels = {\n",
    "        \"Unspecified\": 0,\n",
    "        \"Some High School Coursework\": 1,\n",
    "        \"High School or equivalent\": 2,\n",
    "        \"Vocational - HS Diploma\": 2,\n",
    "        \"Some College Coursework Completed\": 3,\n",
    "        \"Associate Degree\": 4,\n",
    "        \"Vocational - Degree\": 5,\n",
    "        \"Certification\": 5,\n",
    "        \"Bachelor's Degree\": 5,\n",
    "        \"Professional\": 6,\n",
    "        \"Master's Degree\": 7,\n",
    "        \"Doctorate\": 8\n",
    "    }\n",
    "    return int_convert(education_levels.get(text, np.nan))"
   ]
  },
  {
   "cell_type": "code",
   "execution_count": 71,
   "metadata": {},
   "outputs": [],
   "source": [
    "# 二度以上実行するとすべて0になってしまうので注意\n",
    "encoded_train_X['required_experience'] = encoded_train_X['required_experience'].apply(encoder_experience)\n",
    "encoded_test_X['required_experience'] = encoded_test_X['required_experience'].apply(encoder_experience)\n",
    "encoded_train_X['required_education'] = encoded_train_X['required_education'].apply(encoder_education)\n",
    "encoded_test_X['required_education'] = encoded_test_X['required_education'].apply(encoder_education)"
   ]
  },
  {
   "cell_type": "code",
   "execution_count": 72,
   "metadata": {},
   "outputs": [
    {
     "name": "stdout",
     "output_type": "stream",
     "text": [
      "required_experience\n",
      "4.0    928\n",
      "2.0    675\n",
      "3.0    576\n",
      "0.0    280\n",
      "1.0     98\n",
      "5.0     88\n",
      "6.0     32\n",
      "Name: count, dtype: int64\n",
      "required_education\n",
      "5.0    1336\n",
      "2.0     522\n",
      "0.0     348\n",
      "7.0     106\n",
      "4.0      70\n",
      "3.0      22\n",
      "6.0      20\n",
      "8.0      10\n",
      "1.0       8\n",
      "Name: count, dtype: int64\n"
     ]
    }
   ],
   "source": [
    "pprint(encoded_train_X['required_experience'].value_counts())\n",
    "pprint(encoded_train_X['required_education'].value_counts())"
   ]
  },
  {
   "cell_type": "markdown",
   "metadata": {},
   "source": [
    "salary_rangeを上限値と下限値でカラムを分ける。"
   ]
  },
  {
   "cell_type": "code",
   "execution_count": 73,
   "metadata": {},
   "outputs": [],
   "source": [
    "def split_columns_salary(df):\n",
    "    df['salary_lower'] = df['salary_range'].str.split('-').str[0].apply(int_convert)\n",
    "    df['salary_upper'] = df['salary_range'].str.split('-').str[1].apply(int_convert)\n",
    "    df = df.drop('salary_range', axis=1)\n",
    "    # df['salary_lower'].fillna('null', inplace=True)\n",
    "    # df['salary_upper'].fillna('null', inplace=True)\n",
    "    return df\n",
    "\n",
    "encoded_train_X = split_columns_salary(encoded_train_X)\n",
    "encoded_test_X = split_columns_salary(encoded_test_X)"
   ]
  },
  {
   "cell_type": "code",
   "execution_count": 74,
   "metadata": {},
   "outputs": [
    {
     "name": "stdout",
     "output_type": "stream",
     "text": [
      "salary_lower\n",
      "0.0         50\n",
      "50000.0     46\n",
      "40000.0     41\n",
      "30000.0     39\n",
      "80000.0     34\n",
      "            ..\n",
      "960000.0     1\n",
      "21.0         1\n",
      "143520.0     1\n",
      "14500.0      1\n",
      "500000.0     1\n",
      "Name: count, Length: 140, dtype: int64\n",
      "salary_upper\n",
      "50000.0     41\n",
      "0.0         39\n",
      "40000.0     36\n",
      "100000.0    36\n",
      "45000.0     29\n",
      "            ..\n",
      "89000.0      1\n",
      "105000.0     1\n",
      "6000.0       1\n",
      "96000.0      1\n",
      "57000.0      1\n",
      "Name: count, Length: 155, dtype: int64\n"
     ]
    }
   ],
   "source": [
    "pprint(encoded_train_X['salary_lower'].value_counts())\n",
    "pprint(encoded_train_X['salary_upper'].value_counts())"
   ]
  },
  {
   "cell_type": "markdown",
   "metadata": {},
   "source": [
    "地名を国名・州名・都市名で分ける。"
   ]
  },
  {
   "cell_type": "code",
   "execution_count": 75,
   "metadata": {},
   "outputs": [],
   "source": [
    "def split_columns_location(df):\n",
    "    df['country'] = df['location'].str.split(', ').str[0]\n",
    "    df['region'] = df['location'].str.split(', ').str[1]\n",
    "    df['city'] = df['location'].str.split(', ').str[2]\n",
    "    df = df.drop('location', axis=1)\n",
    "    # df['country'].fillna('null', inplace=True)\n",
    "    # df['region'].fillna('null', inplace=True)\n",
    "    # df['city'].fillna('null', inplace=True)\n",
    "    return df\n",
    "\n",
    "encoded_train_X = split_columns_location(encoded_train_X)\n",
    "encoded_test_X = split_columns_location(encoded_test_X)"
   ]
  },
  {
   "cell_type": "code",
   "execution_count": 76,
   "metadata": {},
   "outputs": [
    {
     "name": "stdout",
     "output_type": "stream",
     "text": [
      "country\n",
      "US    2672\n",
      "GB     581\n",
      "GR     237\n",
      "CA     114\n",
      "DE      94\n",
      "      ... \n",
      "LV       1\n",
      "CZ       1\n",
      "AM       1\n",
      "CO       1\n",
      "MY       1\n",
      "Name: count, Length: 70, dtype: int64\n",
      "region\n",
      "       509\n",
      "CA     497\n",
      "NY     330\n",
      "TX     250\n",
      "LND    222\n",
      "      ... \n",
      "BA       1\n",
      "OL       1\n",
      "DUR      1\n",
      "PR       1\n",
      "02       1\n",
      "Name: count, Length: 219, dtype: int64\n",
      "city\n",
      "                  381\n",
      "London            252\n",
      "New York          193\n",
      "Athens            145\n",
      "San Francisco     117\n",
      "                 ... \n",
      "Montréal            1\n",
      " Al Nashwa          1\n",
      "Nicosia             1\n",
      "New York Metro      1\n",
      "Limassol            1\n",
      "Name: count, Length: 1101, dtype: int64\n"
     ]
    }
   ],
   "source": [
    "pprint(encoded_train_X['country'].value_counts())\n",
    "pprint(encoded_train_X['region'].value_counts())\n",
    "pprint(encoded_train_X['city'].value_counts())"
   ]
  },
  {
   "cell_type": "markdown",
   "metadata": {},
   "source": [
    "#### Embedding\n",
    "TF-IDF Vectorizer（[解説](https://www.analyticsvidhya.com/blog/2021/06/part-5-step-by-step-guide-to-master-nlp-text-vectorization-approaches/)）を用いてベクトル化。意味ある単語に重みが置かれる。"
   ]
  },
  {
   "cell_type": "code",
   "execution_count": 77,
   "metadata": {},
   "outputs": [
    {
     "data": {
      "text/plain": [
       "Index(['title', 'department', 'company_profile', 'description', 'requirements',\n",
       "       'benefits', 'telecommuting', 'has_company_logo', 'has_questions',\n",
       "       'required_experience', 'required_education', 'industry', 'function',\n",
       "       'employment_type_Contract', 'employment_type_Full-time',\n",
       "       'employment_type_Other', 'employment_type_Part-time',\n",
       "       'employment_type_Temporary', 'salary_lower', 'salary_upper', 'country',\n",
       "       'region', 'city'],\n",
       "      dtype='object')"
      ]
     },
     "execution_count": 77,
     "metadata": {},
     "output_type": "execute_result"
    }
   ],
   "source": [
    "encoded_train_X.columns"
   ]
  },
  {
   "cell_type": "code",
   "execution_count": 78,
   "metadata": {},
   "outputs": [
    {
     "name": "stdout",
     "output_type": "stream",
     "text": [
      "   title  department  company_profile  description  requirements  benefits  \\\n",
      "0    0.0         0.0              0.0          0.0           0.0       0.0   \n",
      "1    0.0         0.0              1.0          0.0           0.0       0.0   \n",
      "2    0.0         1.0              0.0          0.0           0.0       0.0   \n",
      "3    0.0         0.0              0.0          1.0           0.0       0.0   \n",
      "4    0.0         0.0              0.0          0.0           0.0       0.0   \n",
      "\n",
      "   telecommuting  has_company_logo  has_questions  required_experience  ...  \\\n",
      "0              0                 1              1                  5.0  ...   \n",
      "1              0                 1              0                  2.0  ...   \n",
      "2              0                 1              0                  2.0  ...   \n",
      "3              0                 1              1                  NaN  ...   \n",
      "4              0                 1              1                  NaN  ...   \n",
      "\n",
      "   employment_type_Contract  employment_type_Full-time  employment_type_Other  \\\n",
      "0                     False                       True                  False   \n",
      "1                     False                       True                  False   \n",
      "2                     False                       True                  False   \n",
      "3                     False                      False                  False   \n",
      "4                     False                      False                  False   \n",
      "\n",
      "   employment_type_Part-time  employment_type_Temporary  salary_lower  \\\n",
      "0                      False                      False           NaN   \n",
      "1                      False                      False           NaN   \n",
      "2                      False                      False           NaN   \n",
      "3                       True                      False           NaN   \n",
      "4                      False                      False           NaN   \n",
      "\n",
      "   salary_upper  country  region           city  \n",
      "0           NaN       US      CA  San Francisco  \n",
      "1           NaN       US      NY    Farmingdale  \n",
      "2           NaN       US      NV      Las Vegas  \n",
      "3           NaN       DE      BE         Berlin  \n",
      "4           NaN       GR                 Athens  \n",
      "\n",
      "[5 rows x 23 columns]\n"
     ]
    }
   ],
   "source": [
    "text_columns = ['title', 'department', 'company_profile', 'description',\n",
    "       'requirements', 'benefits', 'industry', 'function']\n",
    "vectorized_train_X = copy.deepcopy(encoded_train_X)\n",
    "vectorized_test_X = copy.deepcopy(encoded_test_X)\n",
    "\n",
    "# ベクトル化\n",
    "vectorizer = TfidfVectorizer()\n",
    "vectors_train = vectorizer.fit_transform(encoded_train_X[text_columns])\n",
    "vectors_test = vectorizer.fit_transform(encoded_test_X[text_columns])\n",
    "\n",
    "# スパース行列を密な形式に変換\n",
    "vectorized_train_X[text_columns] = pd.DataFrame(vectors_train.toarray(), columns=vectorizer.get_feature_names_out(), dtype=\"float\")\n",
    "vectorized_test_X[text_columns] = pd.DataFrame(vectors_test.toarray(), columns=vectorizer.get_feature_names_out(), dtype=\"float\")\n",
    "\n",
    "print(vectorized_train_X.head())"
   ]
  },
  {
   "cell_type": "markdown",
   "metadata": {},
   "source": [
    "## モデル構築1 (文章加工なし)"
   ]
  },
  {
   "cell_type": "code",
   "execution_count": 79,
   "metadata": {},
   "outputs": [],
   "source": [
    "model = xgb.XGBClassifier(random_state=0) # fix seed\n",
    "\n",
    "parameters = {\n",
    "    \"n_estimators\" : [10, 20, 50, 100, 200, 500],\n",
    "    \"max_depth\" : [2, 4, 6, 8, 10, 12, 14, 16, 18, 20],\n",
    "    'objective' : ['binary:hinge'] # This makes 0 or 1, rather than producing probabilities.\n",
    "}\n",
    "model_opt = GridSearchCV(model, parameters, scoring=\"f1\")\n",
    "model_opt.fit(vectorized_train_X, train_y)\n",
    "print(model_opt.best_params_)"
   ]
  },
  {
   "cell_type": "code",
   "execution_count": null,
   "metadata": {},
   "outputs": [
    {
     "name": "stdout",
     "output_type": "stream",
     "text": [
      "0.28540528437080165\n"
     ]
    }
   ],
   "source": [
    "print(model_opt.best_score_)"
   ]
  },
  {
   "cell_type": "markdown",
   "metadata": {},
   "source": [
    "カテゴリカルデータを数値として扱うと精度が悪いので、DMatrixでカテゴリカルデータを正しく扱ってみる。DMatrixを既存のGridSearchCVでは扱えないので、自分で実装する"
   ]
  },
  {
   "cell_type": "code",
   "execution_count": null,
   "metadata": {},
   "outputs": [
    {
     "name": "stdout",
     "output_type": "stream",
     "text": [
      "Best Score: 0.5360824742268041\n",
      "Best Parameters: {'num_round': 50, 'max_depth': 10}\n"
     ]
    }
   ],
   "source": [
    "dtrain = xgb.DMatrix(data=vectorized_train_X, label=train_y, enable_categorical=True) # カテゴリカルデータの分類は実験的機能\n",
    "dtest = xgb.DMatrix(data=vectorized_test_X, label=test_y, enable_categorical=True) # カテゴリカルデータの分類は実験的機能\n",
    "\n",
    "parameters = {\n",
    "    \"num_round\" : [10, 20, 50, 100, 200, 500],\n",
    "    \"max_depth\" : [2, 4, 6, 8, 10, 12, 14, 16, 18, 20],\n",
    "}\n",
    "\n",
    "best_score = 0\n",
    "best_params = None\n",
    "\n",
    "# パラメータのすべての組み合わせに対してループ\n",
    "for params in product(*parameters.values()):\n",
    "    param_dict = dict(zip(parameters.keys(), params))\n",
    "\n",
    "    # 警告回避のためnum_roundだけ除外\n",
    "    given_param = {\n",
    "        \"max_depth\" : param_dict[\"max_depth\"],\n",
    "        'objective' : 'binary:hinge' # This makes 0 or 1, rather than producing probabilities.\n",
    "    }\n",
    "    num_round = param_dict[\"num_round\"]\n",
    "    \n",
    "    # モデルの訓練と評価\n",
    "    trained_model = xgb.train(given_param, dtrain, num_round)\n",
    "    prediceted_y = trained_model.predict(dtest)\n",
    "    score = f1_score(test_y, prediceted_y)\n",
    "\n",
    "    # ベストスコアの更新\n",
    "    if score > best_score:\n",
    "        best_score = score\n",
    "        best_params = param_dict\n",
    "\n",
    "print(\"Best Score:\", best_score)\n",
    "print(\"Best Parameters:\", best_params)"
   ]
  },
  {
   "cell_type": "markdown",
   "metadata": {},
   "source": [
    "精度は最大でも54%と当てずっぽうに近い結果となった。"
   ]
  },
  {
   "cell_type": "markdown",
   "metadata": {},
   "source": [
    "## モデル構築2 (文章加工あり)\n",
    "前処理を行ってからベクトル化する。"
   ]
  },
  {
   "cell_type": "code",
   "execution_count": null,
   "metadata": {},
   "outputs": [],
   "source": [
    "# 処理前データ読み込み\n",
    "text_columns = ['title', 'department', 'company_profile', 'description',\n",
    "       'requirements', 'benefits', 'industry', 'function']\n",
    "processed_train_X = copy.deepcopy(encoded_train_X)\n",
    "processed_test_X = copy.deepcopy(encoded_test_X)"
   ]
  },
  {
   "cell_type": "code",
   "execution_count": null,
   "metadata": {},
   "outputs": [
    {
     "name": "stdout",
     "output_type": "stream",
     "text": [
      "                             title          location        department  \\\n",
      "0  customer service representative     us ga atlanta  customer service   \n",
      "1      mystery shopper  new mexico  us nm farmington               NaN   \n",
      "2       customer service associate      us ma boston               NaN   \n",
      "3                software engineer   us oh cleveland               NaN   \n",
      "4             junior ios developer       gr i athens               NaN   \n",
      "\n",
      "                                     company_profile  \\\n",
      "0  since  allied secured benefits a leading finan...   \n",
      "1  sdi marketing started in  as a small marketing...   \n",
      "2  novitex enterprise solutions formerly pitney b...   \n",
      "3  we provide full time permanent positions for m...   \n",
      "4  parkaround ex parking defenders is an athensba...   \n",
      "\n",
      "                                         description  \\\n",
      "0  if you are passionate about helping people you...   \n",
      "1  would you like to get paid to use your smart p...   \n",
      "2  the customer service associate will be based i...   \n",
      "3  we have more than  job openings in our website...   \n",
      "4  parkaround ex parking defenders is looking for...   \n",
      "\n",
      "                                        requirements  \\\n",
      "0  basic computer skillshome computer with intern...   \n",
      "1   must have a smartphone with a data plan must ...   \n",
      "2  minimum requirementsminimum of  months custome...   \n",
      "3                                                NaN   \n",
      "4  a passion for the ios platform  you consider i...   \n",
      "\n",
      "                                            benefits  \\\n",
      "0       high hourly pay paid weeklyptopaid holidaysk   \n",
      "1                                                NaN   \n",
      "2                                                NaN   \n",
      "3                                                NaN   \n",
      "4  competitive salary depending on skills and exp...   \n",
      "\n",
      "                              industry          function  \n",
      "0                            insurance  customer service  \n",
      "1            marketing and advertising         marketing  \n",
      "2                  facilities services  customer service  \n",
      "3  information technology and services               NaN  \n",
      "4                    computer software       engineering  \n"
     ]
    }
   ],
   "source": [
    "def convert_lower(text):\n",
    "    try:\n",
    "        # 英字と空白（スペース、タブ、改行など）以外の文字を取り除く\n",
    "        cleaned_text = re.sub(r'[^a-zA-Z\\s]','',text) \n",
    "        lower_text = cleaned_text.lower()\n",
    "        return lower_text\n",
    "    except TypeError: # NaNの入力\n",
    "        return text\n",
    "\n",
    "# すべて小文字にする\n",
    "processed_train_X[text_columns] = processed_train_X[text_columns].map(convert_lower)\n",
    "processed_test_X[text_columns] = processed_test_X[text_columns].map(convert_lower)\n",
    "\n",
    "print(processed_train_X[text_columns].head())"
   ]
  },
  {
   "cell_type": "markdown",
   "metadata": {},
   "source": [
    "レンマタイゼーション（Lemmatization）によって単語を基本形または辞書形（レンマ）に変換する。\n",
    "\n",
    "レンマタイゼーションの特徴と利点\n",
    "- 意味の保持\n",
    "  - ステミングは単に単語の末尾を切り取る。例えば「running」は「run」になる。\n",
    "  - レンマタイゼーションは単語の意味を考慮する。例えば「better」のレンマは「good」になる。\n",
    "- 計算コストが高い"
   ]
  },
  {
   "cell_type": "code",
   "execution_count": null,
   "metadata": {},
   "outputs": [
    {
     "name": "stderr",
     "output_type": "stream",
     "text": [
      "[nltk_data] Downloading package wordnet to\n",
      "[nltk_data]     C:\\Users\\katai\\AppData\\Roaming\\nltk_data...\n",
      "[nltk_data]   Package wordnet is already up-to-date!\n",
      "[nltk_data] Downloading package averaged_perceptron_tagger to\n",
      "[nltk_data]     C:\\Users\\katai\\AppData\\Roaming\\nltk_data...\n",
      "[nltk_data]   Package averaged_perceptron_tagger is already up-to-\n",
      "[nltk_data]       date!\n"
     ]
    },
    {
     "name": "stdout",
     "output_type": "stream",
     "text": [
      "                             title          location        department  \\\n",
      "0  customer service representative     us ga atlanta  customer service   \n",
      "1      mystery shopper  new mexico  us nm farmington               NaN   \n",
      "2       customer service associate      us ma boston               NaN   \n",
      "3                software engineer   us oh cleveland               NaN   \n",
      "4             junior ios developer       gr i athens               NaN   \n",
      "\n",
      "                                     company_profile  \\\n",
      "0  since  allied secured benefits a leading finan...   \n",
      "1  sdi marketing started in  as a small marketing...   \n",
      "2  novitex enterprise solutions formerly pitney b...   \n",
      "3  we provide full time permanent positions for m...   \n",
      "4  parkaround ex parking defenders is an athensba...   \n",
      "\n",
      "                                         description  \\\n",
      "0  if you are passionate about helping people you...   \n",
      "1  would you like to get paid to use your smart p...   \n",
      "2  the customer service associate will be based i...   \n",
      "3  we have more than  job openings in our website...   \n",
      "4  parkaround ex parking defenders is looking for...   \n",
      "\n",
      "                                        requirements  \\\n",
      "0  basic computer skillshome computer with intern...   \n",
      "1   must have a smartphone with a data plan must ...   \n",
      "2  minimum requirementsminimum of  months custome...   \n",
      "3                                                NaN   \n",
      "4  a passion for the ios platform  you consider i...   \n",
      "\n",
      "                                            benefits  \\\n",
      "0       high hourly pay paid weeklyptopaid holidaysk   \n",
      "1                                                NaN   \n",
      "2                                                NaN   \n",
      "3                                                NaN   \n",
      "4  competitive salary depending on skills and exp...   \n",
      "\n",
      "                              industry          function  \n",
      "0                            insurance  customer service  \n",
      "1            marketing and advertising         marketing  \n",
      "2                  facilities services  customer service  \n",
      "3  information technology and services               NaN  \n",
      "4                    computer software       engineering  \n"
     ]
    }
   ],
   "source": [
    "# ワードリストをダウンロード\n",
    "nltk.download('wordnet')\n",
    "nltk.download('averaged_perceptron_tagger')\n",
    "\n",
    "# WordNetLemmatizerの初期化\n",
    "lemmatizer = WordNetLemmatizer()\n",
    "\n",
    "# NaN対策\n",
    "def safe_lemmatizer(text):\n",
    "    try:\n",
    "        converted_text = lemmatizer.lemmatize(text) \n",
    "        return converted_text\n",
    "    except AttributeError: # NaNの入力\n",
    "        return text\n",
    "\n",
    "# レンマタイゼーション\n",
    "processed_train_X[text_columns] = processed_train_X[text_columns].map(safe_lemmatizer)\n",
    "processed_test_X[text_columns] = processed_test_X[text_columns].map(safe_lemmatizer)\n",
    "\n",
    "print(processed_train_X[text_columns].head())"
   ]
  },
  {
   "cell_type": "code",
   "execution_count": 178,
   "metadata": {},
   "outputs": [],
   "source": [
    "# ストップワードを除去しながら変換\n",
    "vectorizer = TfidfVectorizer(stop_words='english')"
   ]
  }
 ],
 "metadata": {
  "kernelspec": {
   "display_name": ".venv",
   "language": "python",
   "name": "python3"
  },
  "language_info": {
   "codemirror_mode": {
    "name": "ipython",
    "version": 3
   },
   "file_extension": ".py",
   "mimetype": "text/x-python",
   "name": "python",
   "nbconvert_exporter": "python",
   "pygments_lexer": "ipython3",
   "version": "3.10.11"
  }
 },
 "nbformat": 4,
 "nbformat_minor": 2
}
