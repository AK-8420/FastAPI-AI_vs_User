{
 "cells": [
  {
   "cell_type": "markdown",
   "metadata": {},
   "source": [
    "# XGBoostによる分類モデルのテスト\n",
    "最適なパラメータを探す\n",
    "## データ準備"
   ]
  },
  {
   "cell_type": "code",
   "execution_count": 47,
   "metadata": {},
   "outputs": [],
   "source": [
    "import pandas as pd\n",
    "import matplotlib.pyplot as plt\n",
    "from pprint import pprint\n",
    "import xgboost as xgb\n",
    "from itertools import product\n",
    "from sklearn.model_selection import train_test_split\n",
    "from sklearn.metrics._scorer import _SCORERS\n",
    "from sklearn.metrics import f1_score\n",
    "from sklearn.preprocessing import OneHotEncoder\n",
    "from sklearn.model_selection import GridSearchCV"
   ]
  },
  {
   "cell_type": "code",
   "execution_count": 1,
   "metadata": {},
   "outputs": [],
   "source": [
    "df = pd.read_csv(\"./fake_job_postings.csv\")\n",
    "df = df.drop(\"job_id\", axis=1) # job_id = 0,1,2,... 学習価値なし\n",
    "df.fillna('null', inplace=True) # 空の文字列 -> null\n",
    "\n",
    "# 偽文書と本物文書\n",
    "Fakedf = df[ df['fraudulent'] == 1 ]\n",
    "Realdf = df[ df['fraudulent'] == 0 ]\n",
    "\n",
    "# 問題文データのランダム抽出 (偽文書割合50%)\n",
    "detaset_Fake, quiz_Fake = train_test_split(Fakedf, test_size=50)\n",
    "detaset_Real, quiz_Real = train_test_split(Realdf, test_size=50)\n",
    "\n",
    "# 問題文データのランダムシャッフル\n",
    "quizdf = pd.concat([quiz_Real, quiz_Fake])\n",
    "shuffled_df = quizdf.sample(frac=1).reset_index(drop=True)\n",
    "quiz = shuffled_df.drop(\"fraudulent\", axis=1)        # 問題文\n",
    "quiz_solution = shuffled_df[\"fraudulent\"].to_numpy() # 解答\n",
    "\n",
    "# 訓練データとテストデータへの分割 (テストデータ25%)\n",
    "train_Fake, test_Fake = train_test_split(detaset_Fake)\n",
    "train_Real, test_Real = train_test_split(detaset_Real)\n",
    "traindf = pd.concat([train_Real, train_Fake])\n",
    "testdf = pd.concat([test_Real, test_Fake])\n",
    "traindf = traindf.sample(frac=1).reset_index(drop=True)\n",
    "testdf = testdf.sample(frac=1).reset_index(drop=True)\n",
    "train_X = testdf.drop('fraudulent', axis=1)\n",
    "train_y = testdf['fraudulent']\n",
    "test_X = testdf.drop('fraudulent', axis=1)\n",
    "test_y = testdf['fraudulent']"
   ]
  },
  {
   "cell_type": "markdown",
   "metadata": {},
   "source": [
    "データの傾向を確認する。"
   ]
  },
  {
   "cell_type": "code",
   "execution_count": 20,
   "metadata": {},
   "outputs": [
    {
     "name": "stdout",
     "output_type": "stream",
     "text": [
      "                                   title                location  \\\n",
      "0                               Attorney  US, VA, Virginia Beach   \n",
      "1     Senior QA Engineer (3-4 Years Exp)       IN, DL, New Delhi   \n",
      "2  Project Administrator Project Support      PH, , QUEZON CITY    \n",
      "3            Creative Digital Copywriter           GR, I, Athens   \n",
      "4                         Marketing Lead       US, CA, San Diego   \n",
      "\n",
      "       department   salary_range  \\\n",
      "0            null           null   \n",
      "1            null  300000-600000   \n",
      "2  Administrator     10000-30000   \n",
      "3        Creative           null   \n",
      "4            null           null   \n",
      "\n",
      "                                     company_profile  \\\n",
      "0  Tidewater Finance Co. was established in 1992 ...   \n",
      "1  Practical Fish was founded in June, 2012 with ...   \n",
      "2  Collabera is a fast growing, end-to-end inform...   \n",
      "3  Tribal Worldwide Athens is a digitally centric...   \n",
      "4  Cashie Commerce is the fastest way to create a...   \n",
      "\n",
      "                                         description  \\\n",
      "0  Tidewater Finance Company, an industry leader ...   \n",
      "1  QA Engineer will participate in the creation a...   \n",
      "2  Job Title :- Project Administrator Project Sup...   \n",
      "3  Tribal DDB Athens is looking for a creative an...   \n",
      "4  Cashie Commerce is looking for a hands-on, hig...   \n",
      "\n",
      "                                        requirements  \\\n",
      "0  Required Education, Experience and SkillsBache...   \n",
      "1  Experience in creating, managing and executing...   \n",
      "2  • Perform Status Tracking &amp; Reporting.• Pe...   \n",
      "3  The successful applicant will be required to d...   \n",
      "4  To perform this job successfully, an individua...   \n",
      "\n",
      "                                            benefits  telecommuting  \\\n",
      "0  Our company offers a competitive salary plus B...              0   \n",
      "1                                               null              0   \n",
      "2  Collabera is a fast growing, end-to-end inform...              0   \n",
      "3                                               null              0   \n",
      "4  Cashie Commerce offers a competitive benefits ...              0   \n",
      "\n",
      "   has_company_logo  has_questions employment_type required_experience  \\\n",
      "0                 1              1       Full-time    Mid-Senior level   \n",
      "1                 1              1       Full-time    Mid-Senior level   \n",
      "2                 1              0        Contract           Associate   \n",
      "3                 1              1            null                null   \n",
      "4                 1              1       Full-time    Mid-Senior level   \n",
      "\n",
      "  required_education                             industry           function  \n",
      "0  Bachelor's Degree                   Financial Services              Legal  \n",
      "1               null                    Computer Software  Quality Assurance  \n",
      "2               null  Information Technology and Services     Administrative  \n",
      "3               null                                 null               null  \n",
      "4  Bachelor's Degree                             Internet          Marketing  \n"
     ]
    }
   ],
   "source": [
    "print(train_X.head())"
   ]
  },
  {
   "cell_type": "markdown",
   "metadata": {},
   "source": [
    "カテゴリカルデータの値と頻度を確認"
   ]
  },
  {
   "cell_type": "code",
   "execution_count": 29,
   "metadata": {},
   "outputs": [
    {
     "name": "stdout",
     "output_type": "stream",
     "text": [
      "---location---\n",
      "location\n",
      "GB, LND, London          718\n",
      "US, NY, New York         658\n",
      "US, CA, San Francisco    472\n",
      "GR, I, Athens            464\n",
      "null                     346\n",
      "                        ... \n",
      "GB, SFK, Leiston           1\n",
      "GB, LND, Hammersmith       1\n",
      "US, WA, Seattle            1\n",
      "BE                         1\n",
      "GB, WSX, Chichester        1\n",
      "Name: count, Length: 3106, dtype: int64\n",
      "---department---\n",
      "department\n",
      "null                                           11547\n",
      "Sales                                            551\n",
      "Engineering                                      487\n",
      "Marketing                                        401\n",
      "Operations                                       270\n",
      "                                               ...  \n",
      "Commercial Management / Contract Management        1\n",
      "Exec                                               1\n",
      "Marcomm                                            1\n",
      "CRM                                                1\n",
      "Hospitality                                        1\n",
      "Name: count, Length: 1338, dtype: int64\n",
      "---employment_type---\n",
      "employment_type\n",
      "Full-time    11620\n",
      "null          3471\n",
      "Contract      1524\n",
      "Part-time      797\n",
      "Temporary      241\n",
      "Other          227\n",
      "Name: count, dtype: int64\n",
      "---required_experience---\n",
      "required_experience\n",
      "null                7050\n",
      "Mid-Senior level    3809\n",
      "Entry level         2697\n",
      "Associate           2297\n",
      "Not Applicable      1116\n",
      "Director             389\n",
      "Internship           381\n",
      "Executive            141\n",
      "Name: count, dtype: int64\n",
      "---required_education---\n",
      "required_education\n",
      "null                                 8105\n",
      "Bachelor's Degree                    5145\n",
      "High School or equivalent            2080\n",
      "Unspecified                          1397\n",
      "Master's Degree                       416\n",
      "Associate Degree                      274\n",
      "Certification                         170\n",
      "Some College Coursework Completed     102\n",
      "Professional                           74\n",
      "Vocational                             49\n",
      "Some High School Coursework            27\n",
      "Doctorate                              26\n",
      "Vocational - HS Diploma                 9\n",
      "Vocational - Degree                     6\n",
      "Name: count, dtype: int64\n",
      "---industry---\n",
      "industry\n",
      "null                                   4903\n",
      "Information Technology and Services    1734\n",
      "Computer Software                      1376\n",
      "Internet                               1062\n",
      "Marketing and Advertising               828\n",
      "                                       ... \n",
      "Shipbuilding                              1\n",
      "Sporting Goods                            1\n",
      "Museums and Institutions                  1\n",
      "Wine and Spirits                          1\n",
      "Ranching                                  1\n",
      "Name: count, Length: 132, dtype: int64\n",
      "---function---\n",
      "function\n",
      "null                      6455\n",
      "Information Technology    1749\n",
      "Sales                     1468\n",
      "Engineering               1348\n",
      "Customer Service          1229\n",
      "Marketing                  830\n",
      "Administrative             630\n",
      "Design                     340\n",
      "Health Care Provider       338\n",
      "Other                      325\n",
      "Education                  325\n",
      "Management                 317\n",
      "Business Development       228\n",
      "Accounting/Auditing        212\n",
      "Human Resources            205\n",
      "Project Management         183\n",
      "Finance                    172\n",
      "Consulting                 144\n",
      "Writing/Editing            132\n",
      "Art/Creative               132\n",
      "Production                 116\n",
      "Product Management         114\n",
      "Quality Assurance          111\n",
      "Advertising                 90\n",
      "Business Analyst            84\n",
      "Data Analyst                82\n",
      "Public Relations            76\n",
      "Manufacturing               74\n",
      "General Business            68\n",
      "Research                    50\n",
      "Legal                       47\n",
      "Strategy/Planning           46\n",
      "Training                    38\n",
      "Supply Chain                36\n",
      "Financial Analyst           33\n",
      "Distribution                24\n",
      "Purchasing                  15\n",
      "Science                     14\n",
      "Name: count, dtype: int64\n"
     ]
    }
   ],
   "source": [
    "category_columns = ['location','department','employment_type','required_experience','required_education','industry','function']\n",
    "for cc in category_columns:\n",
    "    print(f\"---{cc}---\")\n",
    "    pprint(df[cc].value_counts())"
   ]
  },
  {
   "cell_type": "code",
   "execution_count": 15,
   "metadata": {},
   "outputs": [
    {
     "data": {
      "image/png": "[encoded data removed]",
      "text/plain": [
       "<Figure size 640x480 with 1 Axes>"
      ]
     },
     "metadata": {},
     "output_type": "display_data"
    }
   ],
   "source": [
    "train_y.value_counts().rename(index={0: 'Real', 1: 'Fake'}).plot(kind='pie', autopct='%1.1f%%')\n",
    "plt.title('fraudulents distribution')\n",
    "plt.ylabel('')  # y軸ラベルを非表示にする\n",
    "plt.show()"
   ]
  },
  {
   "cell_type": "markdown",
   "metadata": {},
   "source": [
    "偽文書と本物文書の割合が不均衡のため、精度だけでモデル性能を評価するのは適切ではない。\n",
    "不均衡なデータセットでは、多数派クラス（この場合はReal）を予測するだけで高い精度を達成できるため、モデルの真の性能を正確に反映しないことがある。\n",
    "\n",
    "よって評価にはF1 score（適合率と再現率の調和平均）を用いる。\n",
    "- 適合率（Precision）\n",
    "  - 適合率はFakeと予測されたインスタンスのうち、実際にFakeである割合。\n",
    "  - 積極的にRealと予測するとPrecisionが高くなる\n",
    "- 再現率（Recall）\n",
    "  - 再現率は、実際にFakeであるインスタンスのうち、正しくFakeと予測された割合です。\n",
    "  - 積極的にFakeと予測するとRecallが高くなる\n",
    "- 両者はトレードオフ関係にあり、バランスが大事"
   ]
  },
  {
   "cell_type": "code",
   "execution_count": 18,
   "metadata": {},
   "outputs": [
    {
     "name": "stdout",
     "output_type": "stream",
     "text": [
      "['accuracy',\n",
      " 'adjusted_mutual_info_score',\n",
      " 'adjusted_rand_score',\n",
      " 'average_precision',\n",
      " 'balanced_accuracy',\n",
      " 'completeness_score',\n",
      " 'explained_variance',\n",
      " 'f1',\n",
      " 'f1_macro',\n",
      " 'f1_micro',\n",
      " 'f1_samples',\n",
      " 'f1_weighted',\n",
      " 'fowlkes_mallows_score',\n",
      " 'homogeneity_score',\n",
      " 'jaccard',\n",
      " 'jaccard_macro',\n",
      " 'jaccard_micro',\n",
      " 'jaccard_samples',\n",
      " 'jaccard_weighted',\n",
      " 'matthews_corrcoef',\n",
      " 'max_error',\n",
      " 'mutual_info_score',\n",
      " 'neg_brier_score',\n",
      " 'neg_log_loss',\n",
      " 'neg_mean_absolute_error',\n",
      " 'neg_mean_absolute_percentage_error',\n",
      " 'neg_mean_gamma_deviance',\n",
      " 'neg_mean_poisson_deviance',\n",
      " 'neg_mean_squared_error',\n",
      " 'neg_mean_squared_log_error',\n",
      " 'neg_median_absolute_error',\n",
      " 'neg_negative_likelihood_ratio',\n",
      " 'neg_root_mean_squared_error',\n",
      " 'normalized_mutual_info_score',\n",
      " 'positive_likelihood_ratio',\n",
      " 'precision',\n",
      " 'precision_macro',\n",
      " 'precision_micro',\n",
      " 'precision_samples',\n",
      " 'precision_weighted',\n",
      " 'r2',\n",
      " 'rand_score',\n",
      " 'recall',\n",
      " 'recall_macro',\n",
      " 'recall_micro',\n",
      " 'recall_samples',\n",
      " 'recall_weighted',\n",
      " 'roc_auc',\n",
      " 'roc_auc_ovo',\n",
      " 'roc_auc_ovo_weighted',\n",
      " 'roc_auc_ovr',\n",
      " 'roc_auc_ovr_weighted',\n",
      " 'top_k_accuracy',\n",
      " 'v_measure_score']\n"
     ]
    }
   ],
   "source": [
    "# 利用可能な評価指標\n",
    "pprint(sorted(_SCORERS.keys()))"
   ]
  },
  {
   "cell_type": "markdown",
   "metadata": {},
   "source": [
    "### 訓練データの加工\n",
    "前処理を行って、データを扱いやすくする。\n",
    "\n",
    "#### カテゴリカルデータのエンコード"
   ]
  },
  {
   "cell_type": "code",
   "execution_count": 40,
   "metadata": {},
   "outputs": [
    {
     "name": "stdout",
     "output_type": "stream",
     "text": [
      "Index(['title', 'location', 'department', 'salary_range', 'company_profile',\n",
      "       'description', 'requirements', 'benefits', 'telecommuting',\n",
      "       'has_company_logo', 'has_questions', 'required_experience',\n",
      "       'required_education', 'industry', 'function',\n",
      "       'employment_type_Contract', 'employment_type_Full-time',\n",
      "       'employment_type_Other', 'employment_type_Part-time',\n",
      "       'employment_type_Temporary', 'employment_type_null'],\n",
      "      dtype='object')\n"
     ]
    }
   ],
   "source": [
    "encoded_train_X = pd.get_dummies(train_X, columns=['employment_type'])\n",
    "encoded_test_X = pd.get_dummies(test_X, columns=['employment_type'])\n",
    "print(encoded_train_X.columns)"
   ]
  },
  {
   "cell_type": "markdown",
   "metadata": {},
   "source": [
    "required_experienceとrequired_educationをレベル別に数値化する。"
   ]
  },
  {
   "cell_type": "code",
   "execution_count": 33,
   "metadata": {},
   "outputs": [],
   "source": [
    "# required_experience\n",
    "def encoder_experience(text):\n",
    "    experience_levels = {\n",
    "        \"Not Applicable\": 0,\n",
    "        \"Internship\": 1,\n",
    "        \"Entry level\": 2,\n",
    "        \"Associate\": 3,\n",
    "        \"Mid-Senior level\": 4,\n",
    "        \"Director\": 5,\n",
    "        \"Executive\": 6\n",
    "    }\n",
    "    return experience_levels.get(text, 0)\n",
    "\n",
    "# required_education\n",
    "def encoder_education(text):\n",
    "    education_levels = {\n",
    "        \"Unspecified\": 0,\n",
    "        \"null\": 0,\n",
    "        \"Some High School Coursework\": 1,\n",
    "        \"High School or equivalent\": 2,\n",
    "        \"Vocational - HS Diploma\": 2,\n",
    "        \"Some College Coursework Completed\": 3,\n",
    "        \"Associate Degree\": 4,\n",
    "        \"Vocational - Degree\": 5,\n",
    "        \"Certification\": 5,\n",
    "        \"Bachelor's Degree\": 5,\n",
    "        \"Professional\": 6,\n",
    "        \"Master's Degree\": 7,\n",
    "        \"Doctorate\": 8\n",
    "    }\n",
    "    return education_levels.get(text, 0)"
   ]
  },
  {
   "cell_type": "code",
   "execution_count": 41,
   "metadata": {},
   "outputs": [],
   "source": [
    "# 二度以上実行するとすべて0になってしまうので注意\n",
    "encoded_train_X['required_experience'] = encoded_train_X['required_experience'].apply(encoder_experience)\n",
    "encoded_test_X['required_experience'] = encoded_test_X['required_experience'].apply(encoder_experience)\n",
    "encoded_train_X['required_education'] = encoded_train_X['required_education'].apply(encoder_education)\n",
    "encoded_test_X['required_education'] = encoded_test_X['required_education'].apply(encoder_education)"
   ]
  },
  {
   "cell_type": "code",
   "execution_count": 42,
   "metadata": {},
   "outputs": [
    {
     "name": "stdout",
     "output_type": "stream",
     "text": [
      "required_experience\n",
      "0    2009\n",
      "4     986\n",
      "2     668\n",
      "3     577\n",
      "5      97\n",
      "1      85\n",
      "6      23\n",
      "Name: count, dtype: int64\n",
      "required_education\n",
      "0    2419\n",
      "5    1309\n",
      "2     503\n",
      "7      92\n",
      "4      68\n",
      "3      25\n",
      "6      16\n",
      "1       8\n",
      "8       5\n",
      "Name: count, dtype: int64\n"
     ]
    }
   ],
   "source": [
    "pprint(encoded_train_X['required_experience'].value_counts())\n",
    "pprint(encoded_train_X['required_education'].value_counts())"
   ]
  },
  {
   "cell_type": "markdown",
   "metadata": {},
   "source": [
    "## モデル構築1 (文章加工なし)"
   ]
  },
  {
   "cell_type": "markdown",
   "metadata": {},
   "source": [
    "GridSearchCVではDMatrixを扱えないので、自分で実装する"
   ]
  },
  {
   "cell_type": "code",
   "execution_count": 46,
   "metadata": {},
   "outputs": [
    {
     "ename": "ValueError",
     "evalue": "DataFrame.dtypes for data must be int, float, bool or category. When categorical type is supplied, The experimental DMatrix parameter`enable_categorical` must be set to `True`.  Invalid columns:title: object, location: object, department: object, salary_range: object, company_profile: object, description: object, requirements: object, benefits: object, employment_type: object, required_experience: object, required_education: object, industry: object, function: object",
     "output_type": "error",
     "traceback": [
      "\u001b[1;31m---------------------------------------------------------------------------\u001b[0m",
      "\u001b[1;31mValueError\u001b[0m                                Traceback (most recent call last)",
      "\u001b[1;32mc:\\Users\\katai\\studies\\FastAPI_AI_vs_You\\XGBoost_test.ipynb Cell 18\u001b[0m line \u001b[0;36m2\n\u001b[0;32m      <a href='vscode-notebook-cell:/c%3A/Users/katai/studies/FastAPI_AI_vs_You/XGBoost_test.ipynb#X10sZmlsZQ%3D%3D?line=0'>1</a>\u001b[0m model \u001b[39m=\u001b[39m XGBClassifier(random_state\u001b[39m=\u001b[39m\u001b[39m0\u001b[39m) \u001b[39m# fix seed\u001b[39;00m\n\u001b[1;32m----> <a href='vscode-notebook-cell:/c%3A/Users/katai/studies/FastAPI_AI_vs_You/XGBoost_test.ipynb#X10sZmlsZQ%3D%3D?line=1'>2</a>\u001b[0m dtrain \u001b[39m=\u001b[39m DMatrix(data\u001b[39m=\u001b[39;49mtrain_X, label\u001b[39m=\u001b[39;49mtrain_y, enable_categorical\u001b[39m=\u001b[39;49m\u001b[39mTrue\u001b[39;49;00m) \u001b[39m# カテゴリカルデータの分類は実験的機能\u001b[39;00m\n\u001b[0;32m      <a href='vscode-notebook-cell:/c%3A/Users/katai/studies/FastAPI_AI_vs_You/XGBoost_test.ipynb#X10sZmlsZQ%3D%3D?line=3'>4</a>\u001b[0m parameters \u001b[39m=\u001b[39m {\n\u001b[0;32m      <a href='vscode-notebook-cell:/c%3A/Users/katai/studies/FastAPI_AI_vs_You/XGBoost_test.ipynb#X10sZmlsZQ%3D%3D?line=4'>5</a>\u001b[0m     \u001b[39m\"\u001b[39m\u001b[39mn_estimators\u001b[39m\u001b[39m\"\u001b[39m : [\u001b[39m10\u001b[39m, \u001b[39m20\u001b[39m, \u001b[39m50\u001b[39m, \u001b[39m100\u001b[39m, \u001b[39m200\u001b[39m, \u001b[39m500\u001b[39m],\n\u001b[0;32m      <a href='vscode-notebook-cell:/c%3A/Users/katai/studies/FastAPI_AI_vs_You/XGBoost_test.ipynb#X10sZmlsZQ%3D%3D?line=5'>6</a>\u001b[0m     \u001b[39m\"\u001b[39m\u001b[39mmax_depth\u001b[39m\u001b[39m\"\u001b[39m : [\u001b[39m2\u001b[39m, \u001b[39m4\u001b[39m, \u001b[39m6\u001b[39m, \u001b[39m8\u001b[39m, \u001b[39m10\u001b[39m, \u001b[39m12\u001b[39m, \u001b[39m14\u001b[39m, \u001b[39m16\u001b[39m, \u001b[39m18\u001b[39m, \u001b[39m20\u001b[39m]\n\u001b[0;32m      <a href='vscode-notebook-cell:/c%3A/Users/katai/studies/FastAPI_AI_vs_You/XGBoost_test.ipynb#X10sZmlsZQ%3D%3D?line=6'>7</a>\u001b[0m }\n\u001b[0;32m      <a href='vscode-notebook-cell:/c%3A/Users/katai/studies/FastAPI_AI_vs_You/XGBoost_test.ipynb#X10sZmlsZQ%3D%3D?line=7'>8</a>\u001b[0m model_opt \u001b[39m=\u001b[39m GridSearchCV(model, parameters, scoring\u001b[39m=\u001b[39m\u001b[39m\"\u001b[39m\u001b[39mf1\u001b[39m\u001b[39m\"\u001b[39m)\n",
      "File \u001b[1;32mc:\\Users\\katai\\studies\\FastAPI_AI_vs_You\\.venv\\lib\\site-packages\\xgboost\\core.py:729\u001b[0m, in \u001b[0;36mrequire_keyword_args.<locals>.throw_if.<locals>.inner_f\u001b[1;34m(*args, **kwargs)\u001b[0m\n\u001b[0;32m    727\u001b[0m \u001b[39mfor\u001b[39;00m k, arg \u001b[39min\u001b[39;00m \u001b[39mzip\u001b[39m(sig\u001b[39m.\u001b[39mparameters, args):\n\u001b[0;32m    728\u001b[0m     kwargs[k] \u001b[39m=\u001b[39m arg\n\u001b[1;32m--> 729\u001b[0m \u001b[39mreturn\u001b[39;00m func(\u001b[39m*\u001b[39m\u001b[39m*\u001b[39mkwargs)\n",
      "File \u001b[1;32mc:\\Users\\katai\\studies\\FastAPI_AI_vs_You\\.venv\\lib\\site-packages\\xgboost\\core.py:856\u001b[0m, in \u001b[0;36mDMatrix.__init__\u001b[1;34m(self, data, label, weight, base_margin, missing, silent, feature_names, feature_types, nthread, group, qid, label_lower_bound, label_upper_bound, feature_weights, enable_categorical, data_split_mode)\u001b[0m\n\u001b[0;32m    853\u001b[0m     \u001b[39massert\u001b[39;00m \u001b[39mself\u001b[39m\u001b[39m.\u001b[39mhandle \u001b[39mis\u001b[39;00m \u001b[39mnot\u001b[39;00m \u001b[39mNone\u001b[39;00m\n\u001b[0;32m    854\u001b[0m     \u001b[39mreturn\u001b[39;00m\n\u001b[1;32m--> 856\u001b[0m handle, feature_names, feature_types \u001b[39m=\u001b[39m dispatch_data_backend(\n\u001b[0;32m    857\u001b[0m     data,\n\u001b[0;32m    858\u001b[0m     missing\u001b[39m=\u001b[39;49m\u001b[39mself\u001b[39;49m\u001b[39m.\u001b[39;49mmissing,\n\u001b[0;32m    859\u001b[0m     threads\u001b[39m=\u001b[39;49m\u001b[39mself\u001b[39;49m\u001b[39m.\u001b[39;49mnthread,\n\u001b[0;32m    860\u001b[0m     feature_names\u001b[39m=\u001b[39;49mfeature_names,\n\u001b[0;32m    861\u001b[0m     feature_types\u001b[39m=\u001b[39;49mfeature_types,\n\u001b[0;32m    862\u001b[0m     enable_categorical\u001b[39m=\u001b[39;49menable_categorical,\n\u001b[0;32m    863\u001b[0m     data_split_mode\u001b[39m=\u001b[39;49mdata_split_mode,\n\u001b[0;32m    864\u001b[0m )\n\u001b[0;32m    865\u001b[0m \u001b[39massert\u001b[39;00m handle \u001b[39mis\u001b[39;00m \u001b[39mnot\u001b[39;00m \u001b[39mNone\u001b[39;00m\n\u001b[0;32m    866\u001b[0m \u001b[39mself\u001b[39m\u001b[39m.\u001b[39mhandle \u001b[39m=\u001b[39m handle\n",
      "File \u001b[1;32mc:\\Users\\katai\\studies\\FastAPI_AI_vs_You\\.venv\\lib\\site-packages\\xgboost\\data.py:1089\u001b[0m, in \u001b[0;36mdispatch_data_backend\u001b[1;34m(data, missing, threads, feature_names, feature_types, enable_categorical, data_split_mode)\u001b[0m\n\u001b[0;32m   1087\u001b[0m     data \u001b[39m=\u001b[39m pd\u001b[39m.\u001b[39mDataFrame(data)\n\u001b[0;32m   1088\u001b[0m \u001b[39mif\u001b[39;00m _is_pandas_df(data):\n\u001b[1;32m-> 1089\u001b[0m     \u001b[39mreturn\u001b[39;00m _from_pandas_df(\n\u001b[0;32m   1090\u001b[0m         data, enable_categorical, missing, threads, feature_names, feature_types\n\u001b[0;32m   1091\u001b[0m     )\n\u001b[0;32m   1092\u001b[0m \u001b[39mif\u001b[39;00m _is_cudf_df(data) \u001b[39mor\u001b[39;00m _is_cudf_ser(data):\n\u001b[0;32m   1093\u001b[0m     \u001b[39mreturn\u001b[39;00m _from_cudf_df(\n\u001b[0;32m   1094\u001b[0m         data, missing, threads, feature_names, feature_types, enable_categorical\n\u001b[0;32m   1095\u001b[0m     )\n",
      "File \u001b[1;32mc:\\Users\\katai\\studies\\FastAPI_AI_vs_You\\.venv\\lib\\site-packages\\xgboost\\data.py:522\u001b[0m, in \u001b[0;36m_from_pandas_df\u001b[1;34m(data, enable_categorical, missing, nthread, feature_names, feature_types)\u001b[0m\n\u001b[0;32m    514\u001b[0m \u001b[39mdef\u001b[39;00m \u001b[39m_from_pandas_df\u001b[39m(\n\u001b[0;32m    515\u001b[0m     data: DataFrame,\n\u001b[0;32m    516\u001b[0m     enable_categorical: \u001b[39mbool\u001b[39m,\n\u001b[1;32m   (...)\u001b[0m\n\u001b[0;32m    520\u001b[0m     feature_types: Optional[FeatureTypes],\n\u001b[0;32m    521\u001b[0m ) \u001b[39m-\u001b[39m\u001b[39m>\u001b[39m DispatchedDataBackendReturnType:\n\u001b[1;32m--> 522\u001b[0m     data, feature_names, feature_types \u001b[39m=\u001b[39m _transform_pandas_df(\n\u001b[0;32m    523\u001b[0m         data, enable_categorical, feature_names, feature_types\n\u001b[0;32m    524\u001b[0m     )\n\u001b[0;32m    525\u001b[0m     \u001b[39mreturn\u001b[39;00m _from_numpy_array(data, missing, nthread, feature_names, feature_types)\n",
      "File \u001b[1;32mc:\\Users\\katai\\studies\\FastAPI_AI_vs_You\\.venv\\lib\\site-packages\\xgboost\\data.py:490\u001b[0m, in \u001b[0;36m_transform_pandas_df\u001b[1;34m(data, enable_categorical, feature_names, feature_types, meta, meta_type)\u001b[0m\n\u001b[0;32m    483\u001b[0m \u001b[39mfor\u001b[39;00m dtype \u001b[39min\u001b[39;00m data\u001b[39m.\u001b[39mdtypes:\n\u001b[0;32m    484\u001b[0m     \u001b[39mif\u001b[39;00m \u001b[39mnot\u001b[39;00m (\n\u001b[0;32m    485\u001b[0m         (dtype\u001b[39m.\u001b[39mname \u001b[39min\u001b[39;00m _pandas_dtype_mapper)\n\u001b[0;32m    486\u001b[0m         \u001b[39mor\u001b[39;00m is_pd_sparse_dtype(dtype)\n\u001b[0;32m    487\u001b[0m         \u001b[39mor\u001b[39;00m (is_pd_cat_dtype(dtype) \u001b[39mand\u001b[39;00m enable_categorical)\n\u001b[0;32m    488\u001b[0m         \u001b[39mor\u001b[39;00m is_pa_ext_dtype(dtype)\n\u001b[0;32m    489\u001b[0m     ):\n\u001b[1;32m--> 490\u001b[0m         _invalid_dataframe_dtype(data)\n\u001b[0;32m    491\u001b[0m     \u001b[39mif\u001b[39;00m is_pa_ext_dtype(dtype):\n\u001b[0;32m    492\u001b[0m         pyarrow_extension \u001b[39m=\u001b[39m \u001b[39mTrue\u001b[39;00m\n",
      "File \u001b[1;32mc:\\Users\\katai\\studies\\FastAPI_AI_vs_You\\.venv\\lib\\site-packages\\xgboost\\data.py:308\u001b[0m, in \u001b[0;36m_invalid_dataframe_dtype\u001b[1;34m(data)\u001b[0m\n\u001b[0;32m    306\u001b[0m type_err \u001b[39m=\u001b[39m \u001b[39m\"\u001b[39m\u001b[39mDataFrame.dtypes for data must be int, float, bool or category.\u001b[39m\u001b[39m\"\u001b[39m\n\u001b[0;32m    307\u001b[0m msg \u001b[39m=\u001b[39m \u001b[39mf\u001b[39m\u001b[39m\"\"\"\u001b[39m\u001b[39m{\u001b[39;00mtype_err\u001b[39m}\u001b[39;00m\u001b[39m \u001b[39m\u001b[39m{\u001b[39;00m_ENABLE_CAT_ERR\u001b[39m}\u001b[39;00m\u001b[39m \u001b[39m\u001b[39m{\u001b[39;00merr\u001b[39m}\u001b[39;00m\u001b[39m\"\"\"\u001b[39m\n\u001b[1;32m--> 308\u001b[0m \u001b[39mraise\u001b[39;00m \u001b[39mValueError\u001b[39;00m(msg)\n",
      "\u001b[1;31mValueError\u001b[0m: DataFrame.dtypes for data must be int, float, bool or category. When categorical type is supplied, The experimental DMatrix parameter`enable_categorical` must be set to `True`.  Invalid columns:title: object, location: object, department: object, salary_range: object, company_profile: object, description: object, requirements: object, benefits: object, employment_type: object, required_experience: object, required_education: object, industry: object, function: object"
     ]
    }
   ],
   "source": [
    "model = xgb.XGBClassifier(random_state=0) # fix seed\n",
    "dtrain = xgb.DMatrix(data=train_X, label=train_y, enable_categorical=True) # カテゴリカルデータの分類は実験的機能\n",
    "\n",
    "parameters = {\n",
    "    \"n_estimators\" : [10, 20, 50, 100, 200, 500],\n",
    "    \"max_depth\" : [2, 4, 6, 8, 10, 12, 14, 16, 18, 20]\n",
    "}\n",
    "model_opt = GridSearchCV(model, parameters, scoring=\"f1\")\n",
    "model_opt.fit(dtrain)\n",
    "print(model_opt.best_params_)"
   ]
  },
  {
   "cell_type": "code",
   "execution_count": 54,
   "metadata": {},
   "outputs": [
    {
     "name": "stdout",
     "output_type": "stream",
     "text": [
      "{'n_estimators': 10, 'max_depth': 2, 'objective': 'b'}\n"
     ]
    },
    {
     "ename": "NameError",
     "evalue": "name 'dtrain' is not defined",
     "output_type": "error",
     "traceback": [
      "\u001b[1;31m---------------------------------------------------------------------------\u001b[0m",
      "\u001b[1;31mNameError\u001b[0m                                 Traceback (most recent call last)",
      "\u001b[1;32mc:\\Users\\katai\\studies\\FastAPI_AI_vs_You\\XGBoost_test.ipynb Cell 20\u001b[0m line \u001b[0;36m1\n\u001b[0;32m     <a href='vscode-notebook-cell:/c%3A/Users/katai/studies/FastAPI_AI_vs_You/XGBoost_test.ipynb#X41sZmlsZQ%3D%3D?line=14'>15</a>\u001b[0m \u001b[39m# モデルの訓練と評価\u001b[39;00m\n\u001b[0;32m     <a href='vscode-notebook-cell:/c%3A/Users/katai/studies/FastAPI_AI_vs_You/XGBoost_test.ipynb#X41sZmlsZQ%3D%3D?line=15'>16</a>\u001b[0m \u001b[39mprint\u001b[39m(param_dict)\n\u001b[1;32m---> <a href='vscode-notebook-cell:/c%3A/Users/katai/studies/FastAPI_AI_vs_You/XGBoost_test.ipynb#X41sZmlsZQ%3D%3D?line=16'>17</a>\u001b[0m trained_model \u001b[39m=\u001b[39m xgb\u001b[39m.\u001b[39mtrain(param_dict, dtrain, num_round)\n\u001b[0;32m     <a href='vscode-notebook-cell:/c%3A/Users/katai/studies/FastAPI_AI_vs_You/XGBoost_test.ipynb#X41sZmlsZQ%3D%3D?line=17'>18</a>\u001b[0m prediceted_y \u001b[39m=\u001b[39m trained_model\u001b[39m.\u001b[39mpredict(dtest)\n\u001b[0;32m     <a href='vscode-notebook-cell:/c%3A/Users/katai/studies/FastAPI_AI_vs_You/XGBoost_test.ipynb#X41sZmlsZQ%3D%3D?line=18'>19</a>\u001b[0m score \u001b[39m=\u001b[39m f1_score(test_y, prediceted_y)\n",
      "\u001b[1;31mNameError\u001b[0m: name 'dtrain' is not defined"
     ]
    }
   ],
   "source": [
    "dtrain = xgb.DMatrix(data=train_X, label=train_y, enable_categorical=True) # カテゴリカルデータの分類は実験的機能\n",
    "dtest = xgb.DMatrix(data=test_X, label=test_y, enable_categorical=True) # カテゴリカルデータの分類は実験的機能\n",
    "\n",
    "parameters = {\n",
    "    \"n_estimators\" : [10, 20, 50, 100, 200, 500],\n",
    "    \"max_depth\" : [2, 4, 6, 8, 10, 12, 14, 16, 18, 20],\n",
    "}\n",
    "num_round = 10\n",
    "\n",
    "best_score = 0\n",
    "best_params = None\n",
    "\n",
    "# パラメータのすべての組み合わせに対してループ\n",
    "for params in product(*parameters.values()):\n",
    "    param_dict = dict(zip(parameters.keys(), params))\n",
    "    param_dict['objective'] = 'binary:hinge' # This makes 0 or 1, rather than producing probabilities.\n",
    "    \n",
    "    # モデルの訓練と評価\n",
    "    print(param_dict)\n",
    "    trained_model = xgb.train(param_dict, dtrain, num_round)\n",
    "    prediceted_y = trained_model.predict(dtest)\n",
    "    score = f1_score(test_y, prediceted_y)\n",
    "\n",
    "    # ベストスコアの更新\n",
    "    if score > best_score:\n",
    "        best_score = score\n",
    "        best_params = param_dict\n",
    "\n",
    "print(\"Best Score:\", best_score)\n",
    "print(\"Best Parameters:\", best_params)"
   ]
  }
 ],
 "metadata": {
  "kernelspec": {
   "display_name": ".venv",
   "language": "python",
   "name": "python3"
  },
  "language_info": {
   "codemirror_mode": {
    "name": "ipython",
    "version": 3
   },
   "file_extension": ".py",
   "mimetype": "text/x-python",
   "name": "python",
   "nbconvert_exporter": "python",
   "pygments_lexer": "ipython3",
   "version": "3.10.11"
  }
 },
 "nbformat": 4,
 "nbformat_minor": 2
}
