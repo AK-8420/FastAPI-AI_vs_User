{
 "cells": [
  {
   "cell_type": "markdown",
   "metadata": {},
   "source": [
    "# XGBoostによる分類モデルのテスト\n",
    "最適なパラメータを探す\n",
    "## データ準備"
   ]
  },
  {
   "cell_type": "code",
   "execution_count": 106,
   "metadata": {},
   "outputs": [],
   "source": [
    "import pandas as pd\n",
    "import numpy as np\n",
    "import matplotlib.pyplot as plt\n",
    "from pprint import pprint\n",
    "import xgboost as xgb\n",
    "from itertools import product\n",
    "from sklearn.model_selection import train_test_split\n",
    "from sklearn.metrics._scorer import _SCORERS\n",
    "from sklearn.metrics import f1_score\n",
    "from sklearn.model_selection import GridSearchCV\n",
    "from sklearn.feature_extraction.text import TfidfVectorizer"
   ]
  },
  {
   "cell_type": "code",
   "execution_count": 107,
   "metadata": {},
   "outputs": [],
   "source": [
    "df = pd.read_csv(\"./fake_job_postings.csv\")\n",
    "df = df.drop(\"job_id\", axis=1) # job_id = 0,1,2,... 学習価値なし\n",
    "# df.fillna('null', inplace=True) # 空の文字列 -> null (XGBoost APIでは無くてもいける？)\n",
    "\n",
    "# 偽文書と本物文書\n",
    "Fakedf = df[ df['fraudulent'] == 1 ]\n",
    "Realdf = df[ df['fraudulent'] == 0 ]\n",
    "\n",
    "# 問題文データのランダム抽出 (偽文書割合50%)\n",
    "detaset_Fake, quiz_Fake = train_test_split(Fakedf, test_size=50)\n",
    "detaset_Real, quiz_Real = train_test_split(Realdf, test_size=50)\n",
    "\n",
    "# 問題文データのランダムシャッフル\n",
    "quizdf = pd.concat([quiz_Real, quiz_Fake])\n",
    "shuffled_df = quizdf.sample(frac=1).reset_index(drop=True)\n",
    "quiz = shuffled_df.drop(\"fraudulent\", axis=1)        # 問題文\n",
    "quiz_solution = shuffled_df[\"fraudulent\"].to_numpy() # 解答\n",
    "\n",
    "# 訓練データとテストデータへの分割 (テストデータ25%)\n",
    "train_Fake, test_Fake = train_test_split(detaset_Fake)\n",
    "train_Real, test_Real = train_test_split(detaset_Real)\n",
    "traindf = pd.concat([train_Real, train_Fake])\n",
    "testdf = pd.concat([test_Real, test_Fake])\n",
    "traindf = traindf.sample(frac=1).reset_index(drop=True)\n",
    "testdf = testdf.sample(frac=1).reset_index(drop=True)\n",
    "train_X = testdf.drop('fraudulent', axis=1)\n",
    "train_y = testdf['fraudulent']\n",
    "test_X = testdf.drop('fraudulent', axis=1)\n",
    "test_y = testdf['fraudulent']"
   ]
  },
  {
   "cell_type": "markdown",
   "metadata": {},
   "source": [
    "データの傾向を確認する。"
   ]
  },
  {
   "cell_type": "code",
   "execution_count": 108,
   "metadata": {},
   "outputs": [
    {
     "name": "stdout",
     "output_type": "stream",
     "text": [
      "                                               title               location  \\\n",
      "0  Coventry Customer Service Apprenticeship under...         GB, , Coventry   \n",
      "1                            English Teacher Abroad   US, MA, Chestnut Hill   \n",
      "2               PURPOSE: Project & Business Managers                    NaN   \n",
      "3                    Customer Service Representative   US, PA, Philadelphia   \n",
      "4  Technology Manager - PVC Manufacturing MS Offi...    US, OH, USA Midwest   \n",
      "\n",
      "         department salary_range  \\\n",
      "0               NaN          NaN   \n",
      "1               NaN          NaN   \n",
      "2               NaN          NaN   \n",
      "3  customer service  30000-40000   \n",
      "4               NaN          NaN   \n",
      "\n",
      "                                     company_profile  \\\n",
      "0  Established on the principles that full time e...   \n",
      "1  We help teachers get safe &amp; secure jobs ab...   \n",
      "2  We are not your average Monday mail recruiters...   \n",
      "3                                                NaN   \n",
      "4  We Provide Full Time Permanent Positions for m...   \n",
      "\n",
      "                                         description  \\\n",
      "0  This is fantastic opportunity for someone want...   \n",
      "1  Play with kids, get paid for it Love travel? J...   \n",
      "2  Project Manager: Project SpecificBusiness Mana...   \n",
      "3  Job Description: Allied Secured Benefits is lo...   \n",
      "4  Experienced Technology Manager is required hav...   \n",
      "\n",
      "                                        requirements  \\\n",
      "0  Government funding is only available for 16-18...   \n",
      "1  University degree required. TEFL / TESOL / CEL...   \n",
      "2                                                NaN   \n",
      "3  Basic Computer Skills  A Good Phone Voice  Kno...   \n",
      "4  15 years of chemical industry experience.A min...   \n",
      "\n",
      "                                            benefits  telecommuting  \\\n",
      "0                                   Career prospects              0   \n",
      "1                                See job description              0   \n",
      "2                                                NaN              0   \n",
      "3  Our Customer Service Representatives enjoy hig...              1   \n",
      "4                                                NaN              0   \n",
      "\n",
      "   has_company_logo  has_questions employment_type required_experience  \\\n",
      "0                 1              1             NaN      Not Applicable   \n",
      "1                 1              1        Contract                 NaN   \n",
      "2                 1              0             NaN                 NaN   \n",
      "3                 1              0       Full-time      Not Applicable   \n",
      "4                 0              0       Full-time                 NaN   \n",
      "\n",
      "          required_education               industry          function  \n",
      "0  High School or equivalent                    NaN               NaN  \n",
      "1          Bachelor's Degree   Education Management               NaN  \n",
      "2                        NaN                    NaN               NaN  \n",
      "3  High School or equivalent              Insurance  Customer Service  \n",
      "4                        NaN  Management Consulting               NaN  \n"
     ]
    }
   ],
   "source": [
    "print(train_X.head())"
   ]
  },
  {
   "cell_type": "markdown",
   "metadata": {},
   "source": [
    "カテゴリカルデータの値と頻度を確認"
   ]
  },
  {
   "cell_type": "code",
   "execution_count": 109,
   "metadata": {},
   "outputs": [
    {
     "name": "stdout",
     "output_type": "stream",
     "text": [
      "---location---\n",
      "location\n",
      "GB, LND, London                    185\n",
      "US, NY, New York                   154\n",
      "US, CA, San Francisco              137\n",
      "GR, I, Athens                      115\n",
      "US, ,                               88\n",
      "                                  ... \n",
      "TT, CTT, City                        1\n",
      "US, NJ, Franklin Lakes               1\n",
      "US, OR, NW Portland & Hillsboro      1\n",
      "US, TX, Grapevine                    1\n",
      "GB, ENG, Nr. West Drayton            1\n",
      "Name: count, Length: 1383, dtype: int64\n",
      "---department---\n",
      "department\n",
      "Sales                             141\n",
      "Engineering                       129\n",
      "Marketing                         103\n",
      "Operations                         75\n",
      "IT                                 59\n",
      "                                 ... \n",
      "Research & Development              1\n",
      "Freelancer                          1\n",
      "marketing                           1\n",
      "Sales and Business Development      1\n",
      "Embedded Applications               1\n",
      "Name: count, Length: 553, dtype: int64\n",
      "---salary_range---\n",
      "salary_range\n",
      "0-0             38\n",
      "40000-50000     14\n",
      "45000-67000     14\n",
      "25000-30000     11\n",
      "30000-40000     11\n",
      "                ..\n",
      "60000-130000     1\n",
      "200-230          1\n",
      "0-43500          1\n",
      "10000-25000      1\n",
      "20000-20000      1\n",
      "Name: count, Length: 364, dtype: int64\n",
      "---employment_type---\n",
      "employment_type\n",
      "Full-time    2863\n",
      "Contract      384\n",
      "Part-time     185\n",
      "Temporary      72\n",
      "Other          62\n",
      "Name: count, dtype: int64\n",
      "---required_experience---\n",
      "required_experience\n",
      "Mid-Senior level    961\n",
      "Entry level         653\n",
      "Associate           565\n",
      "Not Applicable      290\n",
      "Internship          106\n",
      "Director            100\n",
      "Executive            36\n",
      "Name: count, dtype: int64\n",
      "---required_education---\n",
      "required_education\n",
      "Bachelor's Degree                    1250\n",
      "High School or equivalent             538\n",
      "Unspecified                           365\n",
      "Master's Degree                       104\n",
      "Associate Degree                       72\n",
      "Certification                          42\n",
      "Some College Coursework Completed      25\n",
      "Professional                           18\n",
      "Vocational                             15\n",
      "Doctorate                               5\n",
      "Some High School Coursework             3\n",
      "Vocational - Degree                     2\n",
      "Vocational - HS Diploma                 1\n",
      "Name: count, dtype: int64\n",
      "---industry---\n",
      "industry\n",
      "Information Technology and Services    413\n",
      "Computer Software                      346\n",
      "Internet                               284\n",
      "Financial Services                     219\n",
      "Education Management                   200\n",
      "                                      ... \n",
      "Wireless                                 1\n",
      "Libraries                                1\n",
      "Executive Office                         1\n",
      "Import and Export                        1\n",
      "Textiles                                 1\n",
      "Name: count, Length: 119, dtype: int64\n",
      "---function---\n",
      "function\n",
      "Information Technology    417\n",
      "Sales                     364\n",
      "Engineering               357\n",
      "Customer Service          297\n",
      "Marketing                 216\n",
      "Administrative            163\n",
      "Design                     94\n",
      "Other                      79\n",
      "Health Care Provider       79\n",
      "Education                  78\n",
      "Management                 73\n",
      "Human Resources            49\n",
      "Business Development       49\n",
      "Project Management         48\n",
      "Accounting/Auditing        47\n",
      "Finance                    44\n",
      "Production                 38\n",
      "Art/Creative               34\n",
      "Product Management         31\n",
      "Consulting                 31\n",
      "Quality Assurance          27\n",
      "Business Analyst           25\n",
      "Writing/Editing            21\n",
      "Advertising                20\n",
      "Manufacturing              17\n",
      "Data Analyst               16\n",
      "Public Relations           16\n",
      "Research                   15\n",
      "Distribution               13\n",
      "Training                   13\n",
      "General Business           12\n",
      "Legal                      12\n",
      "Strategy/Planning          10\n",
      "Financial Analyst           9\n",
      "Supply Chain                9\n",
      "Science                     6\n",
      "Purchasing                  3\n",
      "Name: count, dtype: int64\n"
     ]
    }
   ],
   "source": [
    "category_columns = ['location','department','salary_range','employment_type','required_experience','required_education','industry','function']\n",
    "for cc in category_columns:\n",
    "    print(f\"---{cc}---\")\n",
    "    pprint(train_X[cc].value_counts())"
   ]
  },
  {
   "cell_type": "markdown",
   "metadata": {},
   "source": [
    "カテゴリカルデータをすべてOne-hot encodeするのは現実的ではない。"
   ]
  },
  {
   "cell_type": "code",
   "execution_count": 110,
   "metadata": {},
   "outputs": [
    {
     "data": {
      "image/png": "[encoded data removed]",
      "text/plain": [
       "<Figure size 640x480 with 1 Axes>"
      ]
     },
     "metadata": {},
     "output_type": "display_data"
    }
   ],
   "source": [
    "train_y.value_counts().rename(index={0: 'Real', 1: 'Fake'}).plot(kind='pie', autopct='%1.1f%%')\n",
    "plt.title('fraudulents distribution')\n",
    "plt.ylabel('')  # y軸ラベルを非表示にする\n",
    "plt.show()"
   ]
  },
  {
   "cell_type": "markdown",
   "metadata": {},
   "source": [
    "偽文書と本物文書の割合が不均衡のため、精度だけでモデル性能を評価するのは適切ではない。\n",
    "不均衡なデータセットでは、多数派クラス（この場合はReal）を予測するだけで高い精度を達成できるため、モデルの真の性能を正確に反映しないことがある。\n",
    "\n",
    "よって評価にはF1 score（適合率と再現率の調和平均）を用いる。\n",
    "- 適合率（Precision）\n",
    "  - 適合率はFakeと予測されたインスタンスのうち、実際にFakeである割合。\n",
    "  - 積極的にRealと予測するとPrecisionが高くなる\n",
    "- 再現率（Recall）\n",
    "  - 再現率は、実際にFakeであるインスタンスのうち、正しくFakeと予測された割合です。\n",
    "  - 積極的にFakeと予測するとRecallが高くなる\n",
    "- 両者はトレードオフ関係にあり、バランスが大事"
   ]
  },
  {
   "cell_type": "code",
   "execution_count": 111,
   "metadata": {},
   "outputs": [
    {
     "name": "stdout",
     "output_type": "stream",
     "text": [
      "['accuracy',\n",
      " 'adjusted_mutual_info_score',\n",
      " 'adjusted_rand_score',\n",
      " 'average_precision',\n",
      " 'balanced_accuracy',\n",
      " 'completeness_score',\n",
      " 'explained_variance',\n",
      " 'f1',\n",
      " 'f1_macro',\n",
      " 'f1_micro',\n",
      " 'f1_samples',\n",
      " 'f1_weighted',\n",
      " 'fowlkes_mallows_score',\n",
      " 'homogeneity_score',\n",
      " 'jaccard',\n",
      " 'jaccard_macro',\n",
      " 'jaccard_micro',\n",
      " 'jaccard_samples',\n",
      " 'jaccard_weighted',\n",
      " 'matthews_corrcoef',\n",
      " 'max_error',\n",
      " 'mutual_info_score',\n",
      " 'neg_brier_score',\n",
      " 'neg_log_loss',\n",
      " 'neg_mean_absolute_error',\n",
      " 'neg_mean_absolute_percentage_error',\n",
      " 'neg_mean_gamma_deviance',\n",
      " 'neg_mean_poisson_deviance',\n",
      " 'neg_mean_squared_error',\n",
      " 'neg_mean_squared_log_error',\n",
      " 'neg_median_absolute_error',\n",
      " 'neg_negative_likelihood_ratio',\n",
      " 'neg_root_mean_squared_error',\n",
      " 'normalized_mutual_info_score',\n",
      " 'positive_likelihood_ratio',\n",
      " 'precision',\n",
      " 'precision_macro',\n",
      " 'precision_micro',\n",
      " 'precision_samples',\n",
      " 'precision_weighted',\n",
      " 'r2',\n",
      " 'rand_score',\n",
      " 'recall',\n",
      " 'recall_macro',\n",
      " 'recall_micro',\n",
      " 'recall_samples',\n",
      " 'recall_weighted',\n",
      " 'roc_auc',\n",
      " 'roc_auc_ovo',\n",
      " 'roc_auc_ovo_weighted',\n",
      " 'roc_auc_ovr',\n",
      " 'roc_auc_ovr_weighted',\n",
      " 'top_k_accuracy',\n",
      " 'v_measure_score']\n"
     ]
    }
   ],
   "source": [
    "# 利用可能な評価指標\n",
    "pprint(sorted(_SCORERS.keys()))"
   ]
  },
  {
   "cell_type": "markdown",
   "metadata": {},
   "source": [
    "### 訓練データの加工\n",
    "前処理を行って、データを扱いやすくする。\n",
    "\n",
    "#### カテゴリカルデータのエンコード"
   ]
  },
  {
   "cell_type": "code",
   "execution_count": 112,
   "metadata": {},
   "outputs": [
    {
     "name": "stdout",
     "output_type": "stream",
     "text": [
      "Index(['title', 'location', 'department', 'salary_range', 'company_profile',\n",
      "       'description', 'requirements', 'benefits', 'telecommuting',\n",
      "       'has_company_logo', 'has_questions', 'required_experience',\n",
      "       'required_education', 'industry', 'function',\n",
      "       'employment_type_Contract', 'employment_type_Full-time',\n",
      "       'employment_type_Other', 'employment_type_Part-time',\n",
      "       'employment_type_Temporary'],\n",
      "      dtype='object')\n"
     ]
    }
   ],
   "source": [
    "encoded_train_X = pd.get_dummies(train_X, columns=['employment_type'])\n",
    "encoded_test_X = pd.get_dummies(test_X, columns=['employment_type'])\n",
    "print(encoded_train_X.columns)"
   ]
  },
  {
   "cell_type": "markdown",
   "metadata": {},
   "source": [
    "required_experienceとrequired_educationをレベル別に数値化する。"
   ]
  },
  {
   "cell_type": "code",
   "execution_count": 113,
   "metadata": {},
   "outputs": [],
   "source": [
    "def int_convert(value):\n",
    "    try:\n",
    "        output = int(value)\n",
    "        return output\n",
    "    except ValueError:\n",
    "        return np.nan\n",
    "    \n",
    "# required_experience\n",
    "def encoder_experience(text):\n",
    "    experience_levels = {\n",
    "        \"Not Applicable\": 0,\n",
    "        \"Internship\": 1,\n",
    "        \"Entry level\": 2,\n",
    "        \"Associate\": 3,\n",
    "        \"Mid-Senior level\": 4,\n",
    "        \"Director\": 5,\n",
    "        \"Executive\": 6\n",
    "    }\n",
    "    return int_convert(experience_levels.get(text, np.nan))\n",
    "\n",
    "# required_education\n",
    "def encoder_education(text):\n",
    "    education_levels = {\n",
    "        \"Unspecified\": 0,\n",
    "        \"Some High School Coursework\": 1,\n",
    "        \"High School or equivalent\": 2,\n",
    "        \"Vocational - HS Diploma\": 2,\n",
    "        \"Some College Coursework Completed\": 3,\n",
    "        \"Associate Degree\": 4,\n",
    "        \"Vocational - Degree\": 5,\n",
    "        \"Certification\": 5,\n",
    "        \"Bachelor's Degree\": 5,\n",
    "        \"Professional\": 6,\n",
    "        \"Master's Degree\": 7,\n",
    "        \"Doctorate\": 8\n",
    "    }\n",
    "    return int_convert(education_levels.get(text, np.nan))"
   ]
  },
  {
   "cell_type": "code",
   "execution_count": 114,
   "metadata": {},
   "outputs": [],
   "source": [
    "# 二度以上実行するとすべて0になってしまうので注意\n",
    "encoded_train_X['required_experience'] = encoded_train_X['required_experience'].apply(encoder_experience)\n",
    "encoded_test_X['required_experience'] = encoded_test_X['required_experience'].apply(encoder_experience)\n",
    "encoded_train_X['required_education'] = encoded_train_X['required_education'].apply(encoder_education)\n",
    "encoded_test_X['required_education'] = encoded_test_X['required_education'].apply(encoder_education)"
   ]
  },
  {
   "cell_type": "code",
   "execution_count": 115,
   "metadata": {},
   "outputs": [
    {
     "name": "stdout",
     "output_type": "stream",
     "text": [
      "required_experience\n",
      "4.0    961\n",
      "2.0    653\n",
      "3.0    565\n",
      "0.0    290\n",
      "1.0    106\n",
      "5.0    100\n",
      "6.0     36\n",
      "Name: count, dtype: int64\n",
      "required_education\n",
      "5.0    1294\n",
      "2.0     539\n",
      "0.0     365\n",
      "7.0     104\n",
      "4.0      72\n",
      "3.0      25\n",
      "6.0      18\n",
      "8.0       5\n",
      "1.0       3\n",
      "Name: count, dtype: int64\n"
     ]
    }
   ],
   "source": [
    "pprint(encoded_train_X['required_experience'].value_counts())\n",
    "pprint(encoded_train_X['required_education'].value_counts())"
   ]
  },
  {
   "cell_type": "markdown",
   "metadata": {},
   "source": [
    "salary_rangeを上限値と下限値でカラムを分ける。"
   ]
  },
  {
   "cell_type": "code",
   "execution_count": 116,
   "metadata": {},
   "outputs": [],
   "source": [
    "encoded_train_X['salary_lower'] = encoded_train_X['salary_range'].str.split('-').str[0].apply(int_convert)\n",
    "encoded_train_X['salary_upper'] = encoded_train_X['salary_range'].str.split('-').str[1].apply(int_convert)\n",
    "encoded_train_X = encoded_train_X.drop('salary_range', axis=1)\n",
    "# encoded_train_X['salary_lower'].fillna('null', inplace=True)\n",
    "# encoded_train_X['salary_upper'].fillna('null', inplace=True)\n",
    "\n",
    "encoded_test_X['salary_lower'] = encoded_test_X['salary_range'].str.split('-').str[0].apply(int_convert)\n",
    "encoded_test_X['salary_upper'] = encoded_test_X['salary_range'].str.split('-').str[1].apply(int_convert)\n",
    "encoded_test_X = encoded_test_X.drop('salary_range', axis=1)\n",
    "# encoded_test_X['salary_lower'].fillna('null', inplace=True)\n",
    "# encoded_test_X['salary_upper'].fillna('null', inplace=True)"
   ]
  },
  {
   "cell_type": "code",
   "execution_count": 117,
   "metadata": {},
   "outputs": [
    {
     "name": "stdout",
     "output_type": "stream",
     "text": [
      "salary_lower\n",
      "0.0         50\n",
      "40000.0     41\n",
      "45000.0     40\n",
      "30000.0     39\n",
      "50000.0     30\n",
      "            ..\n",
      "9.0          1\n",
      "550000.0     1\n",
      "19500.0      1\n",
      "15600.0      1\n",
      "18720.0      1\n",
      "Name: count, Length: 123, dtype: int64\n",
      "salary_upper\n",
      "100000.0    38\n",
      "0.0         38\n",
      "50000.0     36\n",
      "80000.0     28\n",
      "30000.0     27\n",
      "            ..\n",
      "117000.0     1\n",
      "84000.0      1\n",
      "30.0         1\n",
      "68000.0      1\n",
      "21840.0      1\n",
      "Name: count, Length: 151, dtype: int64\n"
     ]
    }
   ],
   "source": [
    "pprint(encoded_train_X['salary_lower'].value_counts())\n",
    "pprint(encoded_train_X['salary_upper'].value_counts())"
   ]
  },
  {
   "cell_type": "markdown",
   "metadata": {},
   "source": [
    "#### Embedding\n",
    "TF-IDF Vectorizer（[解説](https://www.analyticsvidhya.com/blog/2021/06/part-5-step-by-step-guide-to-master-nlp-text-vectorization-approaches/)）を用いて、意味ある単語を重点的にベクトル化"
   ]
  },
  {
   "cell_type": "code",
   "execution_count": 118,
   "metadata": {},
   "outputs": [
    {
     "data": {
      "text/plain": [
       "Index(['title', 'location', 'department', 'company_profile', 'description',\n",
       "       'requirements', 'benefits', 'telecommuting', 'has_company_logo',\n",
       "       'has_questions', 'required_experience', 'required_education',\n",
       "       'industry', 'function', 'employment_type_Contract',\n",
       "       'employment_type_Full-time', 'employment_type_Other',\n",
       "       'employment_type_Part-time', 'employment_type_Temporary',\n",
       "       'salary_lower', 'salary_upper'],\n",
       "      dtype='object')"
      ]
     },
     "execution_count": 118,
     "metadata": {},
     "output_type": "execute_result"
    }
   ],
   "source": [
    "encoded_train_X.columns"
   ]
  },
  {
   "cell_type": "code",
   "execution_count": 119,
   "metadata": {},
   "outputs": [
    {
     "name": "stdout",
     "output_type": "stream",
     "text": [
      "   title  location  department  company_profile  description  requirements  \\\n",
      "0    0.0       0.0         0.0              0.0          0.0           0.0   \n",
      "1    0.0       0.0         0.0              0.0          0.0           0.0   \n",
      "2    0.0       0.0         1.0              0.0          0.0           0.0   \n",
      "3    0.0       1.0         0.0              0.0          0.0           0.0   \n",
      "4    0.0       0.0         0.0              1.0          0.0           0.0   \n",
      "\n",
      "   benefits  telecommuting  has_company_logo  has_questions  ...  \\\n",
      "0       0.0              0                 1              1  ...   \n",
      "1       1.0              0                 1              1  ...   \n",
      "2       0.0              0                 1              0  ...   \n",
      "3       0.0              1                 1              0  ...   \n",
      "4       0.0              0                 0              0  ...   \n",
      "\n",
      "   required_education  industry  function  employment_type_Contract  \\\n",
      "0                 2.0       0.0       1.0                     False   \n",
      "1                 5.0       0.0       0.0                      True   \n",
      "2                 NaN       0.0       0.0                     False   \n",
      "3                 2.0       0.0       0.0                     False   \n",
      "4                 NaN       0.0       0.0                     False   \n",
      "\n",
      "   employment_type_Full-time  employment_type_Other  \\\n",
      "0                      False                  False   \n",
      "1                      False                  False   \n",
      "2                      False                  False   \n",
      "3                       True                  False   \n",
      "4                       True                  False   \n",
      "\n",
      "   employment_type_Part-time  employment_type_Temporary  salary_lower  \\\n",
      "0                      False                      False           NaN   \n",
      "1                      False                      False           NaN   \n",
      "2                      False                      False           NaN   \n",
      "3                      False                      False       30000.0   \n",
      "4                      False                      False           NaN   \n",
      "\n",
      "   salary_upper  \n",
      "0           NaN  \n",
      "1           NaN  \n",
      "2           NaN  \n",
      "3       40000.0  \n",
      "4           NaN  \n",
      "\n",
      "[5 rows x 21 columns]\n"
     ]
    }
   ],
   "source": [
    "text_columns = ['title', 'location', 'department', 'company_profile', 'description',\n",
    "       'requirements', 'benefits', 'industry', 'function']\n",
    "vectorized_train_X = encoded_train_X\n",
    "vectorized_test_X = encoded_test_X\n",
    "\n",
    "# ベクトル化\n",
    "vectorizer = TfidfVectorizer()\n",
    "vectors_train = vectorizer.fit_transform(encoded_train_X[text_columns])\n",
    "vectors_test = vectorizer.fit_transform(encoded_test_X[text_columns])\n",
    "\n",
    "# スパース行列を密な形式に変換\n",
    "vectorized_train_X[text_columns] = pd.DataFrame(vectors_train.toarray(), columns=vectorizer.get_feature_names_out(), dtype=\"float\")\n",
    "vectorized_test_X[text_columns] = pd.DataFrame(vectors_test.toarray(), columns=vectorizer.get_feature_names_out(), dtype=\"float\")\n",
    "\n",
    "print(vectorized_train_X.head())"
   ]
  },
  {
   "cell_type": "markdown",
   "metadata": {},
   "source": [
    "## モデル構築1 (文章加工なし)"
   ]
  },
  {
   "cell_type": "markdown",
   "metadata": {},
   "source": [
    "GridSearchCVではDMatrixを扱えないので、自分で実装する"
   ]
  },
  {
   "cell_type": "code",
   "execution_count": 120,
   "metadata": {},
   "outputs": [
    {
     "ename": "TypeError",
     "evalue": "Singleton array array(<xgboost.core.DMatrix object at 0x0000020E60320130>, dtype=object) cannot be considered a valid collection.",
     "output_type": "error",
     "traceback": [
      "\u001b[1;31m---------------------------------------------------------------------------\u001b[0m",
      "\u001b[1;31mTypeError\u001b[0m                                 Traceback (most recent call last)",
      "\u001b[1;32mc:\\Users\\katai\\studies\\FastAPI_AI_vs_You\\XGBoost_test.ipynb Cell 26\u001b[0m line \u001b[0;36m9\n\u001b[0;32m      <a href='vscode-notebook-cell:/c%3A/Users/katai/studies/FastAPI_AI_vs_You/XGBoost_test.ipynb#X10sZmlsZQ%3D%3D?line=3'>4</a>\u001b[0m parameters \u001b[39m=\u001b[39m {\n\u001b[0;32m      <a href='vscode-notebook-cell:/c%3A/Users/katai/studies/FastAPI_AI_vs_You/XGBoost_test.ipynb#X10sZmlsZQ%3D%3D?line=4'>5</a>\u001b[0m     \u001b[39m\"\u001b[39m\u001b[39mn_estimators\u001b[39m\u001b[39m\"\u001b[39m : [\u001b[39m10\u001b[39m, \u001b[39m20\u001b[39m, \u001b[39m50\u001b[39m, \u001b[39m100\u001b[39m, \u001b[39m200\u001b[39m, \u001b[39m500\u001b[39m],\n\u001b[0;32m      <a href='vscode-notebook-cell:/c%3A/Users/katai/studies/FastAPI_AI_vs_You/XGBoost_test.ipynb#X10sZmlsZQ%3D%3D?line=5'>6</a>\u001b[0m     \u001b[39m\"\u001b[39m\u001b[39mmax_depth\u001b[39m\u001b[39m\"\u001b[39m : [\u001b[39m2\u001b[39m, \u001b[39m4\u001b[39m, \u001b[39m6\u001b[39m, \u001b[39m8\u001b[39m, \u001b[39m10\u001b[39m, \u001b[39m12\u001b[39m, \u001b[39m14\u001b[39m, \u001b[39m16\u001b[39m, \u001b[39m18\u001b[39m, \u001b[39m20\u001b[39m]\n\u001b[0;32m      <a href='vscode-notebook-cell:/c%3A/Users/katai/studies/FastAPI_AI_vs_You/XGBoost_test.ipynb#X10sZmlsZQ%3D%3D?line=6'>7</a>\u001b[0m }\n\u001b[0;32m      <a href='vscode-notebook-cell:/c%3A/Users/katai/studies/FastAPI_AI_vs_You/XGBoost_test.ipynb#X10sZmlsZQ%3D%3D?line=7'>8</a>\u001b[0m model_opt \u001b[39m=\u001b[39m GridSearchCV(model, parameters, scoring\u001b[39m=\u001b[39m\u001b[39m\"\u001b[39m\u001b[39mf1\u001b[39m\u001b[39m\"\u001b[39m)\n\u001b[1;32m----> <a href='vscode-notebook-cell:/c%3A/Users/katai/studies/FastAPI_AI_vs_You/XGBoost_test.ipynb#X10sZmlsZQ%3D%3D?line=8'>9</a>\u001b[0m model_opt\u001b[39m.\u001b[39;49mfit(dtrain)\n\u001b[0;32m     <a href='vscode-notebook-cell:/c%3A/Users/katai/studies/FastAPI_AI_vs_You/XGBoost_test.ipynb#X10sZmlsZQ%3D%3D?line=9'>10</a>\u001b[0m \u001b[39mprint\u001b[39m(model_opt\u001b[39m.\u001b[39mbest_params_)\n",
      "File \u001b[1;32mc:\\Users\\katai\\studies\\FastAPI_AI_vs_You\\.venv\\lib\\site-packages\\sklearn\\base.py:1152\u001b[0m, in \u001b[0;36m_fit_context.<locals>.decorator.<locals>.wrapper\u001b[1;34m(estimator, *args, **kwargs)\u001b[0m\n\u001b[0;32m   1145\u001b[0m     estimator\u001b[39m.\u001b[39m_validate_params()\n\u001b[0;32m   1147\u001b[0m \u001b[39mwith\u001b[39;00m config_context(\n\u001b[0;32m   1148\u001b[0m     skip_parameter_validation\u001b[39m=\u001b[39m(\n\u001b[0;32m   1149\u001b[0m         prefer_skip_nested_validation \u001b[39mor\u001b[39;00m global_skip_validation\n\u001b[0;32m   1150\u001b[0m     )\n\u001b[0;32m   1151\u001b[0m ):\n\u001b[1;32m-> 1152\u001b[0m     \u001b[39mreturn\u001b[39;00m fit_method(estimator, \u001b[39m*\u001b[39margs, \u001b[39m*\u001b[39m\u001b[39m*\u001b[39mkwargs)\n",
      "File \u001b[1;32mc:\\Users\\katai\\studies\\FastAPI_AI_vs_You\\.venv\\lib\\site-packages\\sklearn\\model_selection\\_search.py:806\u001b[0m, in \u001b[0;36mBaseSearchCV.fit\u001b[1;34m(self, X, y, groups, **fit_params)\u001b[0m\n\u001b[0;32m    803\u001b[0m     \u001b[39mself\u001b[39m\u001b[39m.\u001b[39m_check_refit_for_multimetric(scorers)\n\u001b[0;32m    804\u001b[0m     refit_metric \u001b[39m=\u001b[39m \u001b[39mself\u001b[39m\u001b[39m.\u001b[39mrefit\n\u001b[1;32m--> 806\u001b[0m X, y, groups \u001b[39m=\u001b[39m indexable(X, y, groups)\n\u001b[0;32m    807\u001b[0m fit_params \u001b[39m=\u001b[39m _check_fit_params(X, fit_params)\n\u001b[0;32m    809\u001b[0m cv_orig \u001b[39m=\u001b[39m check_cv(\u001b[39mself\u001b[39m\u001b[39m.\u001b[39mcv, y, classifier\u001b[39m=\u001b[39mis_classifier(estimator))\n",
      "File \u001b[1;32mc:\\Users\\katai\\studies\\FastAPI_AI_vs_You\\.venv\\lib\\site-packages\\sklearn\\utils\\validation.py:453\u001b[0m, in \u001b[0;36mindexable\u001b[1;34m(*iterables)\u001b[0m\n\u001b[0;32m    434\u001b[0m \u001b[39m\u001b[39m\u001b[39m\"\"\"Make arrays indexable for cross-validation.\u001b[39;00m\n\u001b[0;32m    435\u001b[0m \n\u001b[0;32m    436\u001b[0m \u001b[39mChecks consistent length, passes through None, and ensures that everything\u001b[39;00m\n\u001b[1;32m   (...)\u001b[0m\n\u001b[0;32m    449\u001b[0m \u001b[39m    sparse matrix, or dataframe) or `None`.\u001b[39;00m\n\u001b[0;32m    450\u001b[0m \u001b[39m\"\"\"\u001b[39;00m\n\u001b[0;32m    452\u001b[0m result \u001b[39m=\u001b[39m [_make_indexable(X) \u001b[39mfor\u001b[39;00m X \u001b[39min\u001b[39;00m iterables]\n\u001b[1;32m--> 453\u001b[0m check_consistent_length(\u001b[39m*\u001b[39;49mresult)\n\u001b[0;32m    454\u001b[0m \u001b[39mreturn\u001b[39;00m result\n",
      "File \u001b[1;32mc:\\Users\\katai\\studies\\FastAPI_AI_vs_You\\.venv\\lib\\site-packages\\sklearn\\utils\\validation.py:404\u001b[0m, in \u001b[0;36mcheck_consistent_length\u001b[1;34m(*arrays)\u001b[0m\n\u001b[0;32m    393\u001b[0m \u001b[39mdef\u001b[39;00m \u001b[39mcheck_consistent_length\u001b[39m(\u001b[39m*\u001b[39marrays):\n\u001b[0;32m    394\u001b[0m \u001b[39m    \u001b[39m\u001b[39m\"\"\"Check that all arrays have consistent first dimensions.\u001b[39;00m\n\u001b[0;32m    395\u001b[0m \n\u001b[0;32m    396\u001b[0m \u001b[39m    Checks whether all objects in arrays have the same shape or length.\u001b[39;00m\n\u001b[1;32m   (...)\u001b[0m\n\u001b[0;32m    401\u001b[0m \u001b[39m        Objects that will be checked for consistent length.\u001b[39;00m\n\u001b[0;32m    402\u001b[0m \u001b[39m    \"\"\"\u001b[39;00m\n\u001b[1;32m--> 404\u001b[0m     lengths \u001b[39m=\u001b[39m [_num_samples(X) \u001b[39mfor\u001b[39;00m X \u001b[39min\u001b[39;00m arrays \u001b[39mif\u001b[39;00m X \u001b[39mis\u001b[39;00m \u001b[39mnot\u001b[39;00m \u001b[39mNone\u001b[39;00m]\n\u001b[0;32m    405\u001b[0m     uniques \u001b[39m=\u001b[39m np\u001b[39m.\u001b[39munique(lengths)\n\u001b[0;32m    406\u001b[0m     \u001b[39mif\u001b[39;00m \u001b[39mlen\u001b[39m(uniques) \u001b[39m>\u001b[39m \u001b[39m1\u001b[39m:\n",
      "File \u001b[1;32mc:\\Users\\katai\\studies\\FastAPI_AI_vs_You\\.venv\\lib\\site-packages\\sklearn\\utils\\validation.py:404\u001b[0m, in \u001b[0;36m<listcomp>\u001b[1;34m(.0)\u001b[0m\n\u001b[0;32m    393\u001b[0m \u001b[39mdef\u001b[39;00m \u001b[39mcheck_consistent_length\u001b[39m(\u001b[39m*\u001b[39marrays):\n\u001b[0;32m    394\u001b[0m \u001b[39m    \u001b[39m\u001b[39m\"\"\"Check that all arrays have consistent first dimensions.\u001b[39;00m\n\u001b[0;32m    395\u001b[0m \n\u001b[0;32m    396\u001b[0m \u001b[39m    Checks whether all objects in arrays have the same shape or length.\u001b[39;00m\n\u001b[1;32m   (...)\u001b[0m\n\u001b[0;32m    401\u001b[0m \u001b[39m        Objects that will be checked for consistent length.\u001b[39;00m\n\u001b[0;32m    402\u001b[0m \u001b[39m    \"\"\"\u001b[39;00m\n\u001b[1;32m--> 404\u001b[0m     lengths \u001b[39m=\u001b[39m [_num_samples(X) \u001b[39mfor\u001b[39;00m X \u001b[39min\u001b[39;00m arrays \u001b[39mif\u001b[39;00m X \u001b[39mis\u001b[39;00m \u001b[39mnot\u001b[39;00m \u001b[39mNone\u001b[39;00m]\n\u001b[0;32m    405\u001b[0m     uniques \u001b[39m=\u001b[39m np\u001b[39m.\u001b[39munique(lengths)\n\u001b[0;32m    406\u001b[0m     \u001b[39mif\u001b[39;00m \u001b[39mlen\u001b[39m(uniques) \u001b[39m>\u001b[39m \u001b[39m1\u001b[39m:\n",
      "File \u001b[1;32mc:\\Users\\katai\\studies\\FastAPI_AI_vs_You\\.venv\\lib\\site-packages\\sklearn\\utils\\validation.py:345\u001b[0m, in \u001b[0;36m_num_samples\u001b[1;34m(x)\u001b[0m\n\u001b[0;32m    343\u001b[0m \u001b[39mif\u001b[39;00m \u001b[39mhasattr\u001b[39m(x, \u001b[39m\"\u001b[39m\u001b[39mshape\u001b[39m\u001b[39m\"\u001b[39m) \u001b[39mand\u001b[39;00m x\u001b[39m.\u001b[39mshape \u001b[39mis\u001b[39;00m \u001b[39mnot\u001b[39;00m \u001b[39mNone\u001b[39;00m:\n\u001b[0;32m    344\u001b[0m     \u001b[39mif\u001b[39;00m \u001b[39mlen\u001b[39m(x\u001b[39m.\u001b[39mshape) \u001b[39m==\u001b[39m \u001b[39m0\u001b[39m:\n\u001b[1;32m--> 345\u001b[0m         \u001b[39mraise\u001b[39;00m \u001b[39mTypeError\u001b[39;00m(\n\u001b[0;32m    346\u001b[0m             \u001b[39m\"\u001b[39m\u001b[39mSingleton array \u001b[39m\u001b[39m%r\u001b[39;00m\u001b[39m cannot be considered a valid collection.\u001b[39m\u001b[39m\"\u001b[39m \u001b[39m%\u001b[39m x\n\u001b[0;32m    347\u001b[0m         )\n\u001b[0;32m    348\u001b[0m     \u001b[39m# Check that shape is returning an integer or default to len\u001b[39;00m\n\u001b[0;32m    349\u001b[0m     \u001b[39m# Dask dataframes may not return numeric shape[0] value\u001b[39;00m\n\u001b[0;32m    350\u001b[0m     \u001b[39mif\u001b[39;00m \u001b[39misinstance\u001b[39m(x\u001b[39m.\u001b[39mshape[\u001b[39m0\u001b[39m], numbers\u001b[39m.\u001b[39mIntegral):\n",
      "\u001b[1;31mTypeError\u001b[0m: Singleton array array(<xgboost.core.DMatrix object at 0x0000020E60320130>, dtype=object) cannot be considered a valid collection."
     ]
    }
   ],
   "source": [
    "model = xgb.XGBClassifier(random_state=0) # fix seed\n",
    "dtrain = xgb.DMatrix(data=vectorized_train_X, label=train_y, enable_categorical=True) # カテゴリカルデータの分類は実験的機能\n",
    "\n",
    "parameters = {\n",
    "    \"n_estimators\" : [10, 20, 50, 100, 200, 500],\n",
    "    \"max_depth\" : [2, 4, 6, 8, 10, 12, 14, 16, 18, 20]\n",
    "}\n",
    "model_opt = GridSearchCV(model, parameters, scoring=\"f1\")\n",
    "model_opt.fit(dtrain)\n",
    "print(model_opt.best_params_)"
   ]
  },
  {
   "cell_type": "code",
   "execution_count": null,
   "metadata": {},
   "outputs": [
    {
     "ename": "ValueError",
     "evalue": "DataFrame.dtypes for data must be int, float, bool or category. When categorical type is supplied, The experimental DMatrix parameter`enable_categorical` must be set to `True`.  Invalid columns:title: object, location: object, department: object, salary_range: object, company_profile: object, description: object, requirements: object, benefits: object, employment_type: object, required_experience: object, required_education: object, industry: object, function: object",
     "output_type": "error",
     "traceback": [
      "\u001b[1;31m---------------------------------------------------------------------------\u001b[0m",
      "\u001b[1;31mValueError\u001b[0m                                Traceback (most recent call last)",
      "\u001b[1;32mc:\\Users\\katai\\studies\\FastAPI_AI_vs_You\\XGBoost_test.ipynb Cell 20\u001b[0m line \u001b[0;36m1\n\u001b[1;32m----> <a href='vscode-notebook-cell:/c%3A/Users/katai/studies/FastAPI_AI_vs_You/XGBoost_test.ipynb#X41sZmlsZQ%3D%3D?line=0'>1</a>\u001b[0m dtrain \u001b[39m=\u001b[39m xgb\u001b[39m.\u001b[39;49mDMatrix(data\u001b[39m=\u001b[39;49mtrain_X, label\u001b[39m=\u001b[39;49mtrain_y, enable_categorical\u001b[39m=\u001b[39;49m\u001b[39mTrue\u001b[39;49;00m) \u001b[39m# カテゴリカルデータの分類は実験的機能\u001b[39;00m\n\u001b[0;32m      <a href='vscode-notebook-cell:/c%3A/Users/katai/studies/FastAPI_AI_vs_You/XGBoost_test.ipynb#X41sZmlsZQ%3D%3D?line=1'>2</a>\u001b[0m dtest \u001b[39m=\u001b[39m xgb\u001b[39m.\u001b[39mDMatrix(data\u001b[39m=\u001b[39mtest_X, label\u001b[39m=\u001b[39mtest_y, enable_categorical\u001b[39m=\u001b[39m\u001b[39mTrue\u001b[39;00m) \u001b[39m# カテゴリカルデータの分類は実験的機能\u001b[39;00m\n\u001b[0;32m      <a href='vscode-notebook-cell:/c%3A/Users/katai/studies/FastAPI_AI_vs_You/XGBoost_test.ipynb#X41sZmlsZQ%3D%3D?line=3'>4</a>\u001b[0m parameters \u001b[39m=\u001b[39m {\n\u001b[0;32m      <a href='vscode-notebook-cell:/c%3A/Users/katai/studies/FastAPI_AI_vs_You/XGBoost_test.ipynb#X41sZmlsZQ%3D%3D?line=4'>5</a>\u001b[0m     \u001b[39m\"\u001b[39m\u001b[39mn_estimators\u001b[39m\u001b[39m\"\u001b[39m : [\u001b[39m10\u001b[39m, \u001b[39m20\u001b[39m, \u001b[39m50\u001b[39m, \u001b[39m100\u001b[39m, \u001b[39m200\u001b[39m, \u001b[39m500\u001b[39m],\n\u001b[0;32m      <a href='vscode-notebook-cell:/c%3A/Users/katai/studies/FastAPI_AI_vs_You/XGBoost_test.ipynb#X41sZmlsZQ%3D%3D?line=5'>6</a>\u001b[0m     \u001b[39m\"\u001b[39m\u001b[39mmax_depth\u001b[39m\u001b[39m\"\u001b[39m : [\u001b[39m2\u001b[39m, \u001b[39m4\u001b[39m, \u001b[39m6\u001b[39m, \u001b[39m8\u001b[39m, \u001b[39m10\u001b[39m, \u001b[39m12\u001b[39m, \u001b[39m14\u001b[39m, \u001b[39m16\u001b[39m, \u001b[39m18\u001b[39m, \u001b[39m20\u001b[39m],\n\u001b[0;32m      <a href='vscode-notebook-cell:/c%3A/Users/katai/studies/FastAPI_AI_vs_You/XGBoost_test.ipynb#X41sZmlsZQ%3D%3D?line=6'>7</a>\u001b[0m }\n",
      "File \u001b[1;32mc:\\Users\\katai\\studies\\FastAPI_AI_vs_You\\.venv\\lib\\site-packages\\xgboost\\core.py:729\u001b[0m, in \u001b[0;36mrequire_keyword_args.<locals>.throw_if.<locals>.inner_f\u001b[1;34m(*args, **kwargs)\u001b[0m\n\u001b[0;32m    727\u001b[0m \u001b[39mfor\u001b[39;00m k, arg \u001b[39min\u001b[39;00m \u001b[39mzip\u001b[39m(sig\u001b[39m.\u001b[39mparameters, args):\n\u001b[0;32m    728\u001b[0m     kwargs[k] \u001b[39m=\u001b[39m arg\n\u001b[1;32m--> 729\u001b[0m \u001b[39mreturn\u001b[39;00m func(\u001b[39m*\u001b[39m\u001b[39m*\u001b[39mkwargs)\n",
      "File \u001b[1;32mc:\\Users\\katai\\studies\\FastAPI_AI_vs_You\\.venv\\lib\\site-packages\\xgboost\\core.py:856\u001b[0m, in \u001b[0;36mDMatrix.__init__\u001b[1;34m(self, data, label, weight, base_margin, missing, silent, feature_names, feature_types, nthread, group, qid, label_lower_bound, label_upper_bound, feature_weights, enable_categorical, data_split_mode)\u001b[0m\n\u001b[0;32m    853\u001b[0m     \u001b[39massert\u001b[39;00m \u001b[39mself\u001b[39m\u001b[39m.\u001b[39mhandle \u001b[39mis\u001b[39;00m \u001b[39mnot\u001b[39;00m \u001b[39mNone\u001b[39;00m\n\u001b[0;32m    854\u001b[0m     \u001b[39mreturn\u001b[39;00m\n\u001b[1;32m--> 856\u001b[0m handle, feature_names, feature_types \u001b[39m=\u001b[39m dispatch_data_backend(\n\u001b[0;32m    857\u001b[0m     data,\n\u001b[0;32m    858\u001b[0m     missing\u001b[39m=\u001b[39;49m\u001b[39mself\u001b[39;49m\u001b[39m.\u001b[39;49mmissing,\n\u001b[0;32m    859\u001b[0m     threads\u001b[39m=\u001b[39;49m\u001b[39mself\u001b[39;49m\u001b[39m.\u001b[39;49mnthread,\n\u001b[0;32m    860\u001b[0m     feature_names\u001b[39m=\u001b[39;49mfeature_names,\n\u001b[0;32m    861\u001b[0m     feature_types\u001b[39m=\u001b[39;49mfeature_types,\n\u001b[0;32m    862\u001b[0m     enable_categorical\u001b[39m=\u001b[39;49menable_categorical,\n\u001b[0;32m    863\u001b[0m     data_split_mode\u001b[39m=\u001b[39;49mdata_split_mode,\n\u001b[0;32m    864\u001b[0m )\n\u001b[0;32m    865\u001b[0m \u001b[39massert\u001b[39;00m handle \u001b[39mis\u001b[39;00m \u001b[39mnot\u001b[39;00m \u001b[39mNone\u001b[39;00m\n\u001b[0;32m    866\u001b[0m \u001b[39mself\u001b[39m\u001b[39m.\u001b[39mhandle \u001b[39m=\u001b[39m handle\n",
      "File \u001b[1;32mc:\\Users\\katai\\studies\\FastAPI_AI_vs_You\\.venv\\lib\\site-packages\\xgboost\\data.py:1089\u001b[0m, in \u001b[0;36mdispatch_data_backend\u001b[1;34m(data, missing, threads, feature_names, feature_types, enable_categorical, data_split_mode)\u001b[0m\n\u001b[0;32m   1087\u001b[0m     data \u001b[39m=\u001b[39m pd\u001b[39m.\u001b[39mDataFrame(data)\n\u001b[0;32m   1088\u001b[0m \u001b[39mif\u001b[39;00m _is_pandas_df(data):\n\u001b[1;32m-> 1089\u001b[0m     \u001b[39mreturn\u001b[39;00m _from_pandas_df(\n\u001b[0;32m   1090\u001b[0m         data, enable_categorical, missing, threads, feature_names, feature_types\n\u001b[0;32m   1091\u001b[0m     )\n\u001b[0;32m   1092\u001b[0m \u001b[39mif\u001b[39;00m _is_cudf_df(data) \u001b[39mor\u001b[39;00m _is_cudf_ser(data):\n\u001b[0;32m   1093\u001b[0m     \u001b[39mreturn\u001b[39;00m _from_cudf_df(\n\u001b[0;32m   1094\u001b[0m         data, missing, threads, feature_names, feature_types, enable_categorical\n\u001b[0;32m   1095\u001b[0m     )\n",
      "File \u001b[1;32mc:\\Users\\katai\\studies\\FastAPI_AI_vs_You\\.venv\\lib\\site-packages\\xgboost\\data.py:522\u001b[0m, in \u001b[0;36m_from_pandas_df\u001b[1;34m(data, enable_categorical, missing, nthread, feature_names, feature_types)\u001b[0m\n\u001b[0;32m    514\u001b[0m \u001b[39mdef\u001b[39;00m \u001b[39m_from_pandas_df\u001b[39m(\n\u001b[0;32m    515\u001b[0m     data: DataFrame,\n\u001b[0;32m    516\u001b[0m     enable_categorical: \u001b[39mbool\u001b[39m,\n\u001b[1;32m   (...)\u001b[0m\n\u001b[0;32m    520\u001b[0m     feature_types: Optional[FeatureTypes],\n\u001b[0;32m    521\u001b[0m ) \u001b[39m-\u001b[39m\u001b[39m>\u001b[39m DispatchedDataBackendReturnType:\n\u001b[1;32m--> 522\u001b[0m     data, feature_names, feature_types \u001b[39m=\u001b[39m _transform_pandas_df(\n\u001b[0;32m    523\u001b[0m         data, enable_categorical, feature_names, feature_types\n\u001b[0;32m    524\u001b[0m     )\n\u001b[0;32m    525\u001b[0m     \u001b[39mreturn\u001b[39;00m _from_numpy_array(data, missing, nthread, feature_names, feature_types)\n",
      "File \u001b[1;32mc:\\Users\\katai\\studies\\FastAPI_AI_vs_You\\.venv\\lib\\site-packages\\xgboost\\data.py:490\u001b[0m, in \u001b[0;36m_transform_pandas_df\u001b[1;34m(data, enable_categorical, feature_names, feature_types, meta, meta_type)\u001b[0m\n\u001b[0;32m    483\u001b[0m \u001b[39mfor\u001b[39;00m dtype \u001b[39min\u001b[39;00m data\u001b[39m.\u001b[39mdtypes:\n\u001b[0;32m    484\u001b[0m     \u001b[39mif\u001b[39;00m \u001b[39mnot\u001b[39;00m (\n\u001b[0;32m    485\u001b[0m         (dtype\u001b[39m.\u001b[39mname \u001b[39min\u001b[39;00m _pandas_dtype_mapper)\n\u001b[0;32m    486\u001b[0m         \u001b[39mor\u001b[39;00m is_pd_sparse_dtype(dtype)\n\u001b[0;32m    487\u001b[0m         \u001b[39mor\u001b[39;00m (is_pd_cat_dtype(dtype) \u001b[39mand\u001b[39;00m enable_categorical)\n\u001b[0;32m    488\u001b[0m         \u001b[39mor\u001b[39;00m is_pa_ext_dtype(dtype)\n\u001b[0;32m    489\u001b[0m     ):\n\u001b[1;32m--> 490\u001b[0m         _invalid_dataframe_dtype(data)\n\u001b[0;32m    491\u001b[0m     \u001b[39mif\u001b[39;00m is_pa_ext_dtype(dtype):\n\u001b[0;32m    492\u001b[0m         pyarrow_extension \u001b[39m=\u001b[39m \u001b[39mTrue\u001b[39;00m\n",
      "File \u001b[1;32mc:\\Users\\katai\\studies\\FastAPI_AI_vs_You\\.venv\\lib\\site-packages\\xgboost\\data.py:308\u001b[0m, in \u001b[0;36m_invalid_dataframe_dtype\u001b[1;34m(data)\u001b[0m\n\u001b[0;32m    306\u001b[0m type_err \u001b[39m=\u001b[39m \u001b[39m\"\u001b[39m\u001b[39mDataFrame.dtypes for data must be int, float, bool or category.\u001b[39m\u001b[39m\"\u001b[39m\n\u001b[0;32m    307\u001b[0m msg \u001b[39m=\u001b[39m \u001b[39mf\u001b[39m\u001b[39m\"\"\"\u001b[39m\u001b[39m{\u001b[39;00mtype_err\u001b[39m}\u001b[39;00m\u001b[39m \u001b[39m\u001b[39m{\u001b[39;00m_ENABLE_CAT_ERR\u001b[39m}\u001b[39;00m\u001b[39m \u001b[39m\u001b[39m{\u001b[39;00merr\u001b[39m}\u001b[39;00m\u001b[39m\"\"\"\u001b[39m\n\u001b[1;32m--> 308\u001b[0m \u001b[39mraise\u001b[39;00m \u001b[39mValueError\u001b[39;00m(msg)\n",
      "\u001b[1;31mValueError\u001b[0m: DataFrame.dtypes for data must be int, float, bool or category. When categorical type is supplied, The experimental DMatrix parameter`enable_categorical` must be set to `True`.  Invalid columns:title: object, location: object, department: object, salary_range: object, company_profile: object, description: object, requirements: object, benefits: object, employment_type: object, required_experience: object, required_education: object, industry: object, function: object"
     ]
    }
   ],
   "source": [
    "dtrain = xgb.DMatrix(data=vectorized_train_X, label=train_y, enable_categorical=True) # カテゴリカルデータの分類は実験的機能\n",
    "dtest = xgb.DMatrix(data=vectorized_test_X, label=test_y, enable_categorical=True) # カテゴリカルデータの分類は実験的機能\n",
    "\n",
    "parameters = {\n",
    "    \"n_estimators\" : [10, 20, 50, 100, 200, 500],\n",
    "    \"max_depth\" : [2, 4, 6, 8, 10, 12, 14, 16, 18, 20],\n",
    "}\n",
    "num_round = 10\n",
    "\n",
    "best_score = 0\n",
    "best_params = None\n",
    "\n",
    "# パラメータのすべての組み合わせに対してループ\n",
    "for params in product(*parameters.values()):\n",
    "    param_dict = dict(zip(parameters.keys(), params))\n",
    "    param_dict['objective'] = 'binary:hinge' # This makes 0 or 1, rather than producing probabilities.\n",
    "    \n",
    "    # モデルの訓練と評価\n",
    "    trained_model = xgb.train(param_dict, dtrain, num_round)\n",
    "    prediceted_y = trained_model.predict(dtest)\n",
    "    score = f1_score(test_y, prediceted_y)\n",
    "\n",
    "    # ベストスコアの更新\n",
    "    if score > best_score:\n",
    "        best_score = score\n",
    "        best_params = param_dict\n",
    "\n",
    "print(\"Best Score:\", best_score)\n",
    "print(\"Best Parameters:\", best_params)"
   ]
  }
 ],
 "metadata": {
  "kernelspec": {
   "display_name": ".venv",
   "language": "python",
   "name": "python3"
  },
  "language_info": {
   "codemirror_mode": {
    "name": "ipython",
    "version": 3
   },
   "file_extension": ".py",
   "mimetype": "text/x-python",
   "name": "python",
   "nbconvert_exporter": "python",
   "pygments_lexer": "ipython3",
   "version": "3.10.11"
  }
 },
 "nbformat": 4,
 "nbformat_minor": 2
}
