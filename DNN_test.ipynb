{
 "cells": [
  {
   "cell_type": "markdown",
   "metadata": {},
   "source": [
    "# GPU設定\n",
    "CUDA11.8と最新NVIDIA driver、RTX3060を使用\n",
    "\n",
    "```nvcc -V```で現在のCUDAバージョンが確認できる（'nvidia-smi'のCUDA VersionはDriverが対応する最新のVersionを示すらしい）\n",
    "\n",
    "最新のCUDA12.3にはpytorchが対応していないようなのでCUDAを11.8にダウングレード\n",
    "```\n",
    "nvcc: NVIDIA (R) Cuda compiler driver\n",
    "Copyright (c) 2005-2022 NVIDIA Corporation\n",
    "Built on Wed_Sep_21_10:41:10_Pacific_Daylight_Time_2022\n",
    "Cuda compilation tools, release 11.8, V11.8.89\n",
    "Build cuda_11.8.r11.8/compiler.31833905_0\n",
    "```\n",
    "\n",
    "cuDNNも11.x系をダウンロードしてpathを通す\n",
    "\n",
    "pytouchの公式ページから、CUDA11.8に対応しているバージョンを確認してインストールした　https://pytorch.org/get-started/locally/"
   ]
  },
  {
   "cell_type": "code",
   "execution_count": 1,
   "metadata": {},
   "outputs": [
    {
     "name": "stdout",
     "output_type": "stream",
     "text": [
      "Torch version: 2.1.1+cu118\n",
      "11.8\n",
      "0\n"
     ]
    }
   ],
   "source": [
    "import torch\n",
    "print(\"Torch version:\",torch.__version__)\n",
    "print(torch.version.cuda)\n",
    "print(torch.cuda.current_device())"
   ]
  },
  {
   "cell_type": "markdown",
   "metadata": {},
   "source": [
    "embeddingsをGPUで実行しようとしたら16GB以上必要で足りなかった。\n",
    "\n",
    "モデルカードを参考に、max-lengthを制限してみる"
   ]
  },
  {
   "cell_type": "code",
   "execution_count": 2,
   "metadata": {},
   "outputs": [
    {
     "name": "stdout",
     "output_type": "stream",
     "text": [
      "最大バイト数: 22722\n"
     ]
    }
   ],
   "source": [
    "import pandas as pd\n",
    "\n",
    "# CSVファイルを読み込み\n",
    "file_path = 'fake_job_postings.csv'\n",
    "df = pd.read_csv(file_path)\n",
    "\n",
    "# 'description'列の各要素のバイト数を計算し、最大値を取得\n",
    "max_bytes = df['description'].apply(lambda x: len(str(x).encode('utf-8'))).max()\n",
    "\n",
    "print(f\"最大バイト数: {max_bytes}\")"
   ]
  },
  {
   "cell_type": "markdown",
   "metadata": {},
   "source": [
    "でかいのでdescriptionは制限しても意味なし。CPUで処理する"
   ]
  }
 ],
 "metadata": {
  "kernelspec": {
   "display_name": ".venv",
   "language": "python",
   "name": "python3"
  },
  "language_info": {
   "codemirror_mode": {
    "name": "ipython",
    "version": 3
   },
   "file_extension": ".py",
   "mimetype": "text/x-python",
   "name": "python",
   "nbconvert_exporter": "python",
   "pygments_lexer": "ipython3",
   "version": "3.10.11"
  }
 },
 "nbformat": 4,
 "nbformat_minor": 2
}
